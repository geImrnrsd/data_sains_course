{
  "cells": [
    {
      "cell_type": "code",
      "execution_count": 12,
      "metadata": {
        "id": "Nben4E6XUIfa"
      },
      "outputs": [],
      "source": [
        "import string\n",
        "import pandas as pd\n",
        "import matplotlib.pyplot as plt\n",
        "import re \n",
        "from nltk.tokenize import word_tokenize\n",
        "from nltk.corpus import stopwords\n",
        "from Sastrawi.Stemmer.StemmerFactory import StemmerFactory"
      ]
    },
    {
      "cell_type": "markdown",
      "metadata": {
        "id": "6eccDOp5VJMV"
      },
      "source": [
        "1. Buka file dan ubah ke dalam bentuk dataframe. Tampilkan head dari dataframe tersebut "
      ]
    },
    {
      "cell_type": "code",
      "execution_count": 3,
      "metadata": {
        "colab": {
          "base_uri": "https://localhost:8080/",
          "height": 206
        },
        "id": "gGePDuL7UZ3M",
        "outputId": "07cae714-c9a0-494a-c1b8-deabced407cb"
      },
      "outputs": [
        {
          "data": {
            "text/html": [
              "<div>\n",
              "<style scoped>\n",
              "    .dataframe tbody tr th:only-of-type {\n",
              "        vertical-align: middle;\n",
              "    }\n",
              "\n",
              "    .dataframe tbody tr th {\n",
              "        vertical-align: top;\n",
              "    }\n",
              "\n",
              "    .dataframe thead th {\n",
              "        text-align: right;\n",
              "    }\n",
              "</style>\n",
              "<table border=\"1\" class=\"dataframe\">\n",
              "  <thead>\n",
              "    <tr style=\"text-align: right;\">\n",
              "      <th></th>\n",
              "      <th>tweet</th>\n",
              "      <th>userid</th>\n",
              "    </tr>\n",
              "  </thead>\n",
              "  <tbody>\n",
              "    <tr>\n",
              "      <th>0</th>\n",
              "      <td>Tak Sesuai Kesepakatan, Buruh Tangerang Raya T...</td>\n",
              "      <td>58880688</td>\n",
              "    </tr>\n",
              "    <tr>\n",
              "      <th>1</th>\n",
              "      <td>@Resty442_ Kenapa demo buruh yg berjubel2 dapa...</td>\n",
              "      <td>1330047738541694978</td>\n",
              "    </tr>\n",
              "    <tr>\n",
              "      <th>2</th>\n",
              "      <td>Demo Buruh Rentan Ditunggangi Provokator\\nhttp...</td>\n",
              "      <td>1213739491384426497</td>\n",
              "    </tr>\n",
              "    <tr>\n",
              "      <th>3</th>\n",
              "      <td>@geloraco buruh, PP juga kemarin demo gak ada ...</td>\n",
              "      <td>930191748688592896</td>\n",
              "    </tr>\n",
              "    <tr>\n",
              "      <th>4</th>\n",
              "      <td>Berikanlah kepada buruh upahnya sebelum kering...</td>\n",
              "      <td>62988958</td>\n",
              "    </tr>\n",
              "  </tbody>\n",
              "</table>\n",
              "</div>"
            ],
            "text/plain": [
              "                                               tweet               userid\n",
              "0  Tak Sesuai Kesepakatan, Buruh Tangerang Raya T...             58880688\n",
              "1  @Resty442_ Kenapa demo buruh yg berjubel2 dapa...  1330047738541694978\n",
              "2  Demo Buruh Rentan Ditunggangi Provokator\\nhttp...  1213739491384426497\n",
              "3  @geloraco buruh, PP juga kemarin demo gak ada ...   930191748688592896\n",
              "4  Berikanlah kepada buruh upahnya sebelum kering...             62988958"
            ]
          },
          "execution_count": 3,
          "metadata": {},
          "output_type": "execute_result"
        }
      ],
      "source": [
        "filePath = \"../assets/buruh_tweets_202112.csv\"\n",
        "df = pd.read_csv(filePath) \n",
        "df.head()  "
      ]
    },
    {
      "cell_type": "code",
      "execution_count": 22,
      "metadata": {
        "colab": {
          "base_uri": "https://localhost:8080/",
          "height": 206
        },
        "id": "yiz05Zx0VrGt",
        "outputId": "d16750d4-4361-4e98-cc95-ad26409a1154"
      },
      "outputs": [
        {
          "data": {
            "text/html": [
              "<div>\n",
              "<style scoped>\n",
              "    .dataframe tbody tr th:only-of-type {\n",
              "        vertical-align: middle;\n",
              "    }\n",
              "\n",
              "    .dataframe tbody tr th {\n",
              "        vertical-align: top;\n",
              "    }\n",
              "\n",
              "    .dataframe thead th {\n",
              "        text-align: right;\n",
              "    }\n",
              "</style>\n",
              "<table border=\"1\" class=\"dataframe\">\n",
              "  <thead>\n",
              "    <tr style=\"text-align: right;\">\n",
              "      <th></th>\n",
              "      <th>tweet</th>\n",
              "      <th>userid</th>\n",
              "      <th>clean_tweet</th>\n",
              "    </tr>\n",
              "  </thead>\n",
              "  <tbody>\n",
              "    <tr>\n",
              "      <th>0</th>\n",
              "      <td>Tak Sesuai Kesepakatan, Buruh Tangerang Raya Tolak Penetapan UMK Banten 2022 hingga Ancam Aksi Besar-besaran https://t.co/sbVetqbNMO</td>\n",
              "      <td>58880688</td>\n",
              "      <td>sesuai sepakat buruh tangerang raya tolak tetap umk banten ancam aksi besarbesaran</td>\n",
              "    </tr>\n",
              "    <tr>\n",
              "      <th>1</th>\n",
              "      <td>@Resty442_ Kenapa demo buruh yg berjubel2 dapat izin?....makin terang benderang siapa mereka</td>\n",
              "      <td>1330047738541694978</td>\n",
              "      <td>demo buruh yg jubel izinmakin terang benderang</td>\n",
              "    </tr>\n",
              "    <tr>\n",
              "      <th>2</th>\n",
              "      <td>Demo Buruh Rentan Ditunggangi Provokator\\nhttps://t.co/I4Y5n7gAWN\\nAyo Disiplin Prokes</td>\n",
              "      <td>1213739491384426497</td>\n",
              "      <td>demo buruh rentan tunggang provokatorayo disiplin prokes</td>\n",
              "    </tr>\n",
              "    <tr>\n",
              "      <th>3</th>\n",
              "      <td>@geloraco buruh, PP juga kemarin demo gak ada tuh pasal2an.. yg ada polisi yg jadi pasien... \\ndi bali juga simpatisan OPM asoy aja sampe tawuran malah.. sila ke 5 diumpetin kemana..?</td>\n",
              "      <td>930191748688592896</td>\n",
              "      <td>buruh pp kemarin demo gak tuh pasal yg polisi yg pasien bal simpatisan opm asoy aja sampe tawur sila diumpetin mana</td>\n",
              "    </tr>\n",
              "    <tr>\n",
              "      <th>4</th>\n",
              "      <td>Berikanlah kepada buruh upahnya sebelum kering keringatnya. (HR. Abu Yu'la)</td>\n",
              "      <td>62988958</td>\n",
              "      <td>beri buruh upah kering keringat hr abu yula</td>\n",
              "    </tr>\n",
              "    <tr>\n",
              "      <th>...</th>\n",
              "      <td>...</td>\n",
              "      <td>...</td>\n",
              "      <td>...</td>\n",
              "    </tr>\n",
              "    <tr>\n",
              "      <th>995</th>\n",
              "      <td>Bagaimana kalo buruh bicara sebaliknya.. anda juga harus berjiwa besar kalo gaji anda di potong. https://t.co/SH0M1Mh1WC</td>\n",
              "      <td>1021329195329179648</td>\n",
              "      <td>kalo buruh bicara jiwa kalo gaji potong</td>\n",
              "    </tr>\n",
              "    <tr>\n",
              "      <th>996</th>\n",
              "      <td>@coferenigus @RahmatSubekti @BuruhYogyakarta Dikira mereka bukan buruh juga 😂</td>\n",
              "      <td>112568246</td>\n",
              "      <td>buruh</td>\n",
              "    </tr>\n",
              "    <tr>\n",
              "      <th>997</th>\n",
              "      <td>@CNNIndonesia Buruh di suruh berjiwa besar, kena di mereka 😂😂 https://t.co/p2goT3D0eV</td>\n",
              "      <td>1319636205424709632</td>\n",
              "      <td>buruh suruh jiwa kena</td>\n",
              "    </tr>\n",
              "    <tr>\n",
              "      <th>998</th>\n",
              "      <td>@emerson_yuntho Hehee,\\nSepertinya sama buya upah nya pak bahlil sama buruh,\\nSama sama uang😁🙏  tapi.. \\nTapi pak menteri itu tergolong buruh ngga ya?</td>\n",
              "      <td>1360582811921485826</td>\n",
              "      <td>yuntho heheesepertinya buya upah nya bahlil buruhsama uang menteri golong buruh ngga ya</td>\n",
              "    </tr>\n",
              "    <tr>\n",
              "      <th>999</th>\n",
              "      <td>Bisa jadi rezim jokowi jni rezim paling anti buruh sepanjang sejarah nkri, bahkan lebih anti buruh daripada rezim jendral besar soeharto.</td>\n",
              "      <td>1256152739127496704</td>\n",
              "      <td>rezim jokowi jni rezim anti buruh sejarah nkri anti buruh rezim jendral soeharto</td>\n",
              "    </tr>\n",
              "  </tbody>\n",
              "</table>\n",
              "<p>1000 rows × 3 columns</p>\n",
              "</div>"
            ],
            "text/plain": [
              "                                                                                                                                                                                       tweet  \\\n",
              "0                                                       Tak Sesuai Kesepakatan, Buruh Tangerang Raya Tolak Penetapan UMK Banten 2022 hingga Ancam Aksi Besar-besaran https://t.co/sbVetqbNMO   \n",
              "1                                                                                               @Resty442_ Kenapa demo buruh yg berjubel2 dapat izin?....makin terang benderang siapa mereka   \n",
              "2                                                                                                     Demo Buruh Rentan Ditunggangi Provokator\\nhttps://t.co/I4Y5n7gAWN\\nAyo Disiplin Prokes   \n",
              "3    @geloraco buruh, PP juga kemarin demo gak ada tuh pasal2an.. yg ada polisi yg jadi pasien... \\ndi bali juga simpatisan OPM asoy aja sampe tawuran malah.. sila ke 5 diumpetin kemana..?   \n",
              "4                                                                                                                Berikanlah kepada buruh upahnya sebelum kering keringatnya. (HR. Abu Yu'la)   \n",
              "..                                                                                                                                                                                       ...   \n",
              "995                                                                 Bagaimana kalo buruh bicara sebaliknya.. anda juga harus berjiwa besar kalo gaji anda di potong. https://t.co/SH0M1Mh1WC   \n",
              "996                                                                                                            @coferenigus @RahmatSubekti @BuruhYogyakarta Dikira mereka bukan buruh juga 😂   \n",
              "997                                                                                                    @CNNIndonesia Buruh di suruh berjiwa besar, kena di mereka 😂😂 https://t.co/p2goT3D0eV   \n",
              "998                                   @emerson_yuntho Hehee,\\nSepertinya sama buya upah nya pak bahlil sama buruh,\\nSama sama uang😁🙏  tapi.. \\nTapi pak menteri itu tergolong buruh ngga ya?   \n",
              "999                                                Bisa jadi rezim jokowi jni rezim paling anti buruh sepanjang sejarah nkri, bahkan lebih anti buruh daripada rezim jendral besar soeharto.   \n",
              "\n",
              "                  userid  \\\n",
              "0               58880688   \n",
              "1    1330047738541694978   \n",
              "2    1213739491384426497   \n",
              "3     930191748688592896   \n",
              "4               62988958   \n",
              "..                   ...   \n",
              "995  1021329195329179648   \n",
              "996            112568246   \n",
              "997  1319636205424709632   \n",
              "998  1360582811921485826   \n",
              "999  1256152739127496704   \n",
              "\n",
              "                                                                                                             clean_tweet  \n",
              "0                                     sesuai sepakat buruh tangerang raya tolak tetap umk banten ancam aksi besarbesaran  \n",
              "1                                                                         demo buruh yg jubel izinmakin terang benderang  \n",
              "2                                                               demo buruh rentan tunggang provokatorayo disiplin prokes  \n",
              "3    buruh pp kemarin demo gak tuh pasal yg polisi yg pasien bal simpatisan opm asoy aja sampe tawur sila diumpetin mana  \n",
              "4                                                                            beri buruh upah kering keringat hr abu yula  \n",
              "..                                                                                                                   ...  \n",
              "995                                                                              kalo buruh bicara jiwa kalo gaji potong  \n",
              "996                                                                                                                buruh  \n",
              "997                                                                                                buruh suruh jiwa kena  \n",
              "998                              yuntho heheesepertinya buya upah nya bahlil buruhsama uang menteri golong buruh ngga ya  \n",
              "999                                     rezim jokowi jni rezim anti buruh sejarah nkri anti buruh rezim jendral soeharto  \n",
              "\n",
              "[1000 rows x 3 columns]"
            ]
          },
          "execution_count": 22,
          "metadata": {},
          "output_type": "execute_result"
        }
      ],
      "source": [
        "\n",
        "\n",
        "pd.set_option('display.max_colwidth', None)\n",
        "\n",
        "class TweetAnalyzer:\n",
        "  def __init__(self, df, log=False):\n",
        "    self.df = df.copy()\n",
        "    self.log = log\n",
        "\n",
        "    self.cleanTweet()\n",
        "\n",
        "  def cleanTweet(self):\n",
        "    self.df[\"clean_tweet\"] = self.df[\"tweet\"].apply(self.caseFolding)\n",
        "    self.df[\"clean_tweet\"] = self.df[\"clean_tweet\"].apply(self.slangMutation)\n",
        "    self.df[\"clean_tweet\"] = self.df[\"clean_tweet\"].apply(self.removeStopWords)   \n",
        "    self.df[\"clean_tweet\"] = self.df[\"clean_tweet\"].apply(self.stemming) \n",
        "\n",
        "  def showHead(self, n=5):\n",
        "    display(self.df[[\"tweet\"]].head(n)) \n",
        "    display(self.df[[\"clean_tweet\"]].head(n))  \n",
        "\n",
        "  def caseFolding(self, text):\n",
        "    text = text.lower().strip()\n",
        "    text = re.sub(r\"\\d+|(@[A-Za-z0-9]+)|([^0-9A-Za-z \\t])|(\\w+:\\/\\/\\S+)\", \"\", text)\n",
        "    text = text.translate(text.maketrans(\"\", \"\", string.punctuation))\n",
        "    return text\n",
        "  \n",
        "  def slangMutation(self, text):\n",
        "    return text\n",
        "\n",
        "  def removeStopWords(self, text):\n",
        "    text = word_tokenize(text)\n",
        "    blackList = stopwords.words('indonesian')\n",
        "    cleanText = [word for word in text if word not in blackList]\n",
        "    return \" \".join(cleanText) \n",
        "\n",
        "  def stemming(self, text):\n",
        "    factory = StemmerFactory()\n",
        "    stemmer = factory.create_stemmer()\n",
        "    return stemmer.stem(text)\n",
        "\n",
        "df2 = TweetAnalyzer(df)\n",
        "# df2.showHead(2)\n",
        "df2.df\n"
      ]
    },
    {
      "cell_type": "markdown",
      "metadata": {
        "id": "4RFAox-jVZD8"
      },
      "source": [
        "2. Lakukan Preprocessing pada dataset. Simpan kedalam kolom\n",
        "baru dengan nama clean_tweet. Lakukan langkah berikut\n",
        "\n",
        "* Case folding\n",
        "* Menghilangkan stopwords\n",
        "* Menghilangkan bahasa slang\n"
      ]
    },
    {
      "cell_type": "markdown",
      "metadata": {
        "id": "26jogGJUm6fU"
      },
      "source": [
        "3. Tampilkan head dataframe terbaru"
      ]
    },
    {
      "cell_type": "markdown",
      "metadata": {
        "id": "1CM8XsdqnA1h"
      },
      "source": [
        "4. Lakukan Text Data Analytic\n",
        "* Distirbusi Frekuensi karakter per tweet\n",
        "* Distribusi panjang kata per tweet\n",
        "* Distribusi panjang rata-rata kata per tweet\n",
        "* Distribusi Kata\n",
        "* Distribusi bi-gram"
      ]
    },
    {
      "cell_type": "markdown",
      "metadata": {
        "id": "1_tgOB80nIO3"
      },
      "source": [
        "5. Lakukan analisis dan jelaskan temuan kalian."
      ]
    },
    {
      "cell_type": "code",
      "execution_count": null,
      "metadata": {
        "id": "ELUZdj5nU1qV"
      },
      "outputs": [],
      "source": []
    }
  ],
  "metadata": {
    "colab": {
      "collapsed_sections": [],
      "name": "tugas_24_yudi.aditya.89.ipynb",
      "provenance": []
    },
    "kernelspec": {
      "display_name": "Python 3",
      "name": "python3"
    },
    "language_info": {
      "codemirror_mode": {
        "name": "ipython",
        "version": 3
      },
      "file_extension": ".py",
      "mimetype": "text/x-python",
      "name": "python",
      "nbconvert_exporter": "python",
      "pygments_lexer": "ipython3",
      "version": "3.8.6"
    },
    "orig_nbformat": 2
  },
  "nbformat": 4,
  "nbformat_minor": 0
}
