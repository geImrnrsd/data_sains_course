{
  "cells": [
    {
      "cell_type": "code",
      "execution_count": 111,
      "metadata": {
        "id": "Nben4E6XUIfa"
      },
      "outputs": [],
      "source": [
        "import pandas as pd\n",
        "import numpy as np\n",
        "import string\n",
        "import matplotlib.pyplot as plt\n",
        "import re \n",
        "from nltk.tokenize import word_tokenize\n",
        "from nltk.corpus import stopwords\n",
        "from nltk.probability import FreqDist\n",
        "from nltk.util import ngrams\n",
        "from Sastrawi.Stemmer.StemmerFactory import StemmerFactory"
      ]
    },
    {
      "cell_type": "markdown",
      "metadata": {
        "id": "6eccDOp5VJMV"
      },
      "source": [
        "### 1. Read a Dataset\n",
        "Buka file dan ubah ke dalam bentuk dataframe. Tampilkan head dari dataframe tersebut "
      ]
    },
    {
      "cell_type": "code",
      "execution_count": 112,
      "metadata": {
        "colab": {
          "base_uri": "https://localhost:8080/",
          "height": 206
        },
        "id": "gGePDuL7UZ3M",
        "outputId": "07cae714-c9a0-494a-c1b8-deabced407cb"
      },
      "outputs": [
        {
          "data": {
            "text/html": [
              "<div>\n",
              "<style scoped>\n",
              "    .dataframe tbody tr th:only-of-type {\n",
              "        vertical-align: middle;\n",
              "    }\n",
              "\n",
              "    .dataframe tbody tr th {\n",
              "        vertical-align: top;\n",
              "    }\n",
              "\n",
              "    .dataframe thead th {\n",
              "        text-align: right;\n",
              "    }\n",
              "</style>\n",
              "<table border=\"1\" class=\"dataframe\">\n",
              "  <thead>\n",
              "    <tr style=\"text-align: right;\">\n",
              "      <th></th>\n",
              "      <th>tweet</th>\n",
              "      <th>userid</th>\n",
              "    </tr>\n",
              "  </thead>\n",
              "  <tbody>\n",
              "    <tr>\n",
              "      <th>0</th>\n",
              "      <td>Tak Sesuai Kesepakatan, Buruh Tangerang Raya Tolak Penetapan UMK Banten 2022 hingga Ancam Aksi Besar-besaran https://t.co/sbVetqbNMO</td>\n",
              "      <td>58880688</td>\n",
              "    </tr>\n",
              "    <tr>\n",
              "      <th>1</th>\n",
              "      <td>@Resty442_ Kenapa demo buruh yg berjubel2 dapat izin?....makin terang benderang siapa mereka</td>\n",
              "      <td>1330047738541694978</td>\n",
              "    </tr>\n",
              "    <tr>\n",
              "      <th>2</th>\n",
              "      <td>Demo Buruh Rentan Ditunggangi Provokator\\r\\nhttps://t.co/I4Y5n7gAWN\\r\\nAyo Disiplin Prokes</td>\n",
              "      <td>1213739491384426497</td>\n",
              "    </tr>\n",
              "    <tr>\n",
              "      <th>3</th>\n",
              "      <td>@geloraco buruh, PP juga kemarin demo gak ada tuh pasal2an.. yg ada polisi yg jadi pasien... \\r\\ndi bali juga simpatisan OPM asoy aja sampe tawuran malah.. sila ke 5 diumpetin kemana..?</td>\n",
              "      <td>930191748688592896</td>\n",
              "    </tr>\n",
              "    <tr>\n",
              "      <th>4</th>\n",
              "      <td>Berikanlah kepada buruh upahnya sebelum kering keringatnya. (HR. Abu Yu'la)</td>\n",
              "      <td>62988958</td>\n",
              "    </tr>\n",
              "  </tbody>\n",
              "</table>\n",
              "</div>"
            ],
            "text/plain": [
              "                                                                                                                                                                                       tweet  \\\n",
              "0                                                       Tak Sesuai Kesepakatan, Buruh Tangerang Raya Tolak Penetapan UMK Banten 2022 hingga Ancam Aksi Besar-besaran https://t.co/sbVetqbNMO   \n",
              "1                                                                                               @Resty442_ Kenapa demo buruh yg berjubel2 dapat izin?....makin terang benderang siapa mereka   \n",
              "2                                                                                                 Demo Buruh Rentan Ditunggangi Provokator\\r\\nhttps://t.co/I4Y5n7gAWN\\r\\nAyo Disiplin Prokes   \n",
              "3  @geloraco buruh, PP juga kemarin demo gak ada tuh pasal2an.. yg ada polisi yg jadi pasien... \\r\\ndi bali juga simpatisan OPM asoy aja sampe tawuran malah.. sila ke 5 diumpetin kemana..?   \n",
              "4                                                                                                                Berikanlah kepada buruh upahnya sebelum kering keringatnya. (HR. Abu Yu'la)   \n",
              "\n",
              "                userid  \n",
              "0             58880688  \n",
              "1  1330047738541694978  \n",
              "2  1213739491384426497  \n",
              "3   930191748688592896  \n",
              "4             62988958  "
            ]
          },
          "execution_count": 112,
          "metadata": {},
          "output_type": "execute_result"
        }
      ],
      "source": [
        "filePath = \"../assets/buruh_tweets_202112.csv\"\n",
        "df = pd.read_csv(filePath) \n",
        "df.head()  "
      ]
    },
    {
      "cell_type": "code",
      "execution_count": 122,
      "metadata": {
        "colab": {
          "base_uri": "https://localhost:8080/",
          "height": 206
        },
        "id": "yiz05Zx0VrGt",
        "outputId": "d16750d4-4361-4e98-cc95-ad26409a1154"
      },
      "outputs": [],
      "source": [
        "pd.set_option('display.max_colwidth', None)\n",
        "\n",
        "class TweetAnalyzer:\n",
        "  \n",
        "  def __init__(self, df):\n",
        "    self.df = df.copy()\n",
        "    self.blackList = stopwords.words('indonesian')\n",
        "    self.cleanTweet()\n",
        "\n",
        "  def cleanTweet(self):\n",
        "    self.df[\"clean_tweet\"] = self.df[\"tweet\"].apply(self.caseFolding)\n",
        "    self.df[\"clean_tweet\"] = self.df[\"clean_tweet\"].apply(self.removeSlang)\n",
        "    self.df[\"clean_tweet\"] = self.df[\"clean_tweet\"].apply(self.removeStopWords)   \n",
        "    self.df[\"clean_tweet\"] = self.df[\"clean_tweet\"].apply(self.stemming) \n",
        "\n",
        "  def showHead(self, n=5):\n",
        "    display(self.df[[\"tweet\"]].head(n)) \n",
        "    display(self.df[[\"clean_tweet\"]].head(n))  \n",
        "\n",
        "  def caseFolding(self, text):\n",
        "    text = text.lower().strip()\n",
        "    text = re.sub(r\"\\d+|(@[A-Za-z0-9]+)|([^0-9A-Za-z \\t])|(\\w+:\\/\\/\\S+)\", \"\", text)\n",
        "    text = text.translate(text.maketrans(\"\", \"\", string.punctuation))\n",
        "    return text\n",
        "  \n",
        "  def removeSlang(self, text):\n",
        "    slangs = (\"yg\", \"aja\", \"ga\", \"gak\", \"ya\") \n",
        "    text = word_tokenize(text)\n",
        "    cleanText = [word for word in text if word not in slangs]\n",
        "    return \" \".join(cleanText)\n",
        "\n",
        "  def removeStopWords(self, text):\n",
        "    text = word_tokenize(text)\n",
        "    cleanText = [word for word in text if word not in self.blackList]\n",
        "    return \" \".join(cleanText) \n",
        "\n",
        "  def stemming(self, text):\n",
        "    factory = StemmerFactory()\n",
        "    stemmer = factory.create_stemmer()\n",
        "    return stemmer.stem(text)\n",
        "\n",
        "  def showFqCharPerTweet(self):\n",
        "    self.df[\"clean_tweet\"].str.split().map(lambda x: len(x)).hist(bins=20)\n",
        "    plt.show()\n",
        "\n",
        "  def showNumWordPerTweet(self):\n",
        "    self.df[\"clean_tweet\"].str.len().hist(bins=20)\n",
        "    plt.show()\n",
        "  \n",
        "  def getAvgWord(self, x):\n",
        "      x = x.split()\n",
        "      x = map(lambda x: len(x), x)\n",
        "      return(np.average(list(x)))\n",
        "\n",
        "  def showAvgWordPerTweet(self):\n",
        "    self.df[\"clean_tweet\"].apply(self.getAvgWord).hist(bins=20)\n",
        "  \n",
        "  def freqWordDist(self, nWord=20):\n",
        "    self.df[\"tokenize\"] = self.df[\"clean_tweet\"].apply(lambda x: word_tokenize(x)) \n",
        "    self.allWord = [word for tweet in self.df[\"tokenize\"] for word in tweet]\n",
        "    fqdist = FreqDist(self.allWord)\n",
        "    fqdist.plot(nWord, cumulative=False)\n",
        "\n",
        "  def nGramsDist(self, n=2, nWord=20):\n",
        "    self.allWord = [word for tweet in self.df[\"tokenize\"] for word in tweet]\n",
        "    result = pd.Series(ngrams(self.allWord, n)).value_counts()[:nWord]\n",
        "    print(result)\n"
      ]
    },
    {
      "cell_type": "markdown",
      "metadata": {
        "id": "4RFAox-jVZD8"
      },
      "source": [
        "### 2. Dataset Preprocessing\n",
        "Lakukan Preprocessing pada dataset. Simpan kedalam kolom baru dengan nama clean_tweet. Lakukan langkah berikut\n",
        "* Case folding\n",
        "* Menghilangkan stopwords\n",
        "* Menghilangkan bahasa slang\n"
      ]
    },
    {
      "cell_type": "code",
      "execution_count": 123,
      "metadata": {},
      "outputs": [],
      "source": [
        "analyze = TweetAnalyzer(df)"
      ]
    },
    {
      "cell_type": "markdown",
      "metadata": {
        "id": "26jogGJUm6fU"
      },
      "source": [
        "### 3. Cleaned Dataset \n",
        "Tampilkan head dataframe terbaru"
      ]
    },
    {
      "cell_type": "code",
      "execution_count": 124,
      "metadata": {},
      "outputs": [
        {
          "data": {
            "text/html": [
              "<div>\n",
              "<style scoped>\n",
              "    .dataframe tbody tr th:only-of-type {\n",
              "        vertical-align: middle;\n",
              "    }\n",
              "\n",
              "    .dataframe tbody tr th {\n",
              "        vertical-align: top;\n",
              "    }\n",
              "\n",
              "    .dataframe thead th {\n",
              "        text-align: right;\n",
              "    }\n",
              "</style>\n",
              "<table border=\"1\" class=\"dataframe\">\n",
              "  <thead>\n",
              "    <tr style=\"text-align: right;\">\n",
              "      <th></th>\n",
              "      <th>tweet</th>\n",
              "      <th>userid</th>\n",
              "      <th>clean_tweet</th>\n",
              "    </tr>\n",
              "  </thead>\n",
              "  <tbody>\n",
              "    <tr>\n",
              "      <th>0</th>\n",
              "      <td>Tak Sesuai Kesepakatan, Buruh Tangerang Raya Tolak Penetapan UMK Banten 2022 hingga Ancam Aksi Besar-besaran https://t.co/sbVetqbNMO</td>\n",
              "      <td>58880688</td>\n",
              "      <td>sesuai sepakat buruh tangerang raya tolak tetap umk banten ancam aksi besarbesaran</td>\n",
              "    </tr>\n",
              "    <tr>\n",
              "      <th>1</th>\n",
              "      <td>@Resty442_ Kenapa demo buruh yg berjubel2 dapat izin?....makin terang benderang siapa mereka</td>\n",
              "      <td>1330047738541694978</td>\n",
              "      <td>demo buruh jubel izinmakin terang benderang</td>\n",
              "    </tr>\n",
              "    <tr>\n",
              "      <th>2</th>\n",
              "      <td>Demo Buruh Rentan Ditunggangi Provokator\\r\\nhttps://t.co/I4Y5n7gAWN\\r\\nAyo Disiplin Prokes</td>\n",
              "      <td>1213739491384426497</td>\n",
              "      <td>demo buruh rentan tunggang provokatorayo disiplin prokes</td>\n",
              "    </tr>\n",
              "    <tr>\n",
              "      <th>3</th>\n",
              "      <td>@geloraco buruh, PP juga kemarin demo gak ada tuh pasal2an.. yg ada polisi yg jadi pasien... \\r\\ndi bali juga simpatisan OPM asoy aja sampe tawuran malah.. sila ke 5 diumpetin kemana..?</td>\n",
              "      <td>930191748688592896</td>\n",
              "      <td>buruh pp kemarin demo tuh pasal polisi pasien bal simpatisan opm asoy sampe tawur sila diumpetin mana</td>\n",
              "    </tr>\n",
              "    <tr>\n",
              "      <th>4</th>\n",
              "      <td>Berikanlah kepada buruh upahnya sebelum kering keringatnya. (HR. Abu Yu'la)</td>\n",
              "      <td>62988958</td>\n",
              "      <td>beri buruh upah kering keringat hr abu yula</td>\n",
              "    </tr>\n",
              "  </tbody>\n",
              "</table>\n",
              "</div>"
            ],
            "text/plain": [
              "                                                                                                                                                                                       tweet  \\\n",
              "0                                                       Tak Sesuai Kesepakatan, Buruh Tangerang Raya Tolak Penetapan UMK Banten 2022 hingga Ancam Aksi Besar-besaran https://t.co/sbVetqbNMO   \n",
              "1                                                                                               @Resty442_ Kenapa demo buruh yg berjubel2 dapat izin?....makin terang benderang siapa mereka   \n",
              "2                                                                                                 Demo Buruh Rentan Ditunggangi Provokator\\r\\nhttps://t.co/I4Y5n7gAWN\\r\\nAyo Disiplin Prokes   \n",
              "3  @geloraco buruh, PP juga kemarin demo gak ada tuh pasal2an.. yg ada polisi yg jadi pasien... \\r\\ndi bali juga simpatisan OPM asoy aja sampe tawuran malah.. sila ke 5 diumpetin kemana..?   \n",
              "4                                                                                                                Berikanlah kepada buruh upahnya sebelum kering keringatnya. (HR. Abu Yu'la)   \n",
              "\n",
              "                userid  \\\n",
              "0             58880688   \n",
              "1  1330047738541694978   \n",
              "2  1213739491384426497   \n",
              "3   930191748688592896   \n",
              "4             62988958   \n",
              "\n",
              "                                                                                             clean_tweet  \n",
              "0                     sesuai sepakat buruh tangerang raya tolak tetap umk banten ancam aksi besarbesaran  \n",
              "1                                                            demo buruh jubel izinmakin terang benderang  \n",
              "2                                               demo buruh rentan tunggang provokatorayo disiplin prokes  \n",
              "3  buruh pp kemarin demo tuh pasal polisi pasien bal simpatisan opm asoy sampe tawur sila diumpetin mana  \n",
              "4                                                            beri buruh upah kering keringat hr abu yula  "
            ]
          },
          "execution_count": 124,
          "metadata": {},
          "output_type": "execute_result"
        }
      ],
      "source": [
        "analyze.df.head()"
      ]
    },
    {
      "cell_type": "markdown",
      "metadata": {
        "id": "1CM8XsdqnA1h"
      },
      "source": [
        "### 4. Lakukan Text Data Analytic\n",
        "* Distribusi Frekuensi karakter per tweet\n",
        "* Distribusi panjang kata per tweet\n",
        "* Distribusi panjang rata-rata kata per tweet\n",
        "* Distribusi Kata\n",
        "* Distribusi bi-gram"
      ]
    },
    {
      "cell_type": "markdown",
      "metadata": {},
      "source": [
        "#### Distribusi Frekuensi karakter per tweet"
      ]
    },
    {
      "cell_type": "code",
      "execution_count": 125,
      "metadata": {},
      "outputs": [
        {
          "data": {
            "image/png": "[encoded data removed]",
            "text/plain": [
              "<Figure size 432x288 with 1 Axes>"
            ]
          },
          "metadata": {
            "needs_background": "light"
          },
          "output_type": "display_data"
        }
      ],
      "source": [
        "analyze.showFqCharPerTweet()"
      ]
    },
    {
      "cell_type": "markdown",
      "metadata": {},
      "source": [
        "#### Distribusi panjang kata per tweet"
      ]
    },
    {
      "cell_type": "code",
      "execution_count": 126,
      "metadata": {},
      "outputs": [
        {
          "data": {
            "image/png": "[encoded data removed]",
            "text/plain": [
              "<Figure size 432x288 with 1 Axes>"
            ]
          },
          "metadata": {
            "needs_background": "light"
          },
          "output_type": "display_data"
        }
      ],
      "source": [
        "analyze.showNumWordPerTweet()"
      ]
    },
    {
      "cell_type": "markdown",
      "metadata": {},
      "source": [
        "#### Distribusi panjang rata-rata kata per tweet"
      ]
    },
    {
      "cell_type": "code",
      "execution_count": 127,
      "metadata": {},
      "outputs": [
        {
          "data": {
            "image/png": "[encoded data removed]",
            "text/plain": [
              "<Figure size 432x288 with 1 Axes>"
            ]
          },
          "metadata": {
            "needs_background": "light"
          },
          "output_type": "display_data"
        }
      ],
      "source": [
        "analyze.showAvgWordPerTweet()"
      ]
    },
    {
      "cell_type": "markdown",
      "metadata": {},
      "source": [
        "#### Distribusi Kata"
      ]
    },
    {
      "cell_type": "code",
      "execution_count": 128,
      "metadata": {},
      "outputs": [
        {
          "data": {
            "image/png": "[encoded data removed]",
            "text/plain": [
              "<Figure size 432x288 with 1 Axes>"
            ]
          },
          "metadata": {
            "needs_background": "light"
          },
          "output_type": "display_data"
        }
      ],
      "source": [
        "analyze.freqWordDist()"
      ]
    },
    {
      "cell_type": "markdown",
      "metadata": {},
      "source": [
        "#### Distribusi bi-gram"
      ]
    },
    {
      "cell_type": "code",
      "execution_count": 129,
      "metadata": {},
      "outputs": [
        {
          "name": "stdout",
          "output_type": "stream",
          "text": [
            "(demo, buruh)       97\n",
            "(buruh, demo)       54\n",
            "(buruh, pabrik)     33\n",
            "(upah, buruh)       31\n",
            "(buruh, jiwa)       28\n",
            "(serikat, buruh)    26\n",
            "(tuntut, upah)      25\n",
            "(kaum, buruh)       22\n",
            "(gaji, buruh)       21\n",
            "(naik, upah)        21\n",
            "(buruh, buruh)      19\n",
            "(jiwa, tuntut)      18\n",
            "(mogok, kerja)      17\n",
            "(upah, minimum)     17\n",
            "(buruh, tuntut)     17\n",
            "(kerja, buruh)      16\n",
            "(buruh, tani)       16\n",
            "(tetap, ump)        15\n",
            "(cipta, kerja)      15\n",
            "(aksi, demo)        14\n",
            "dtype: int64\n"
          ]
        }
      ],
      "source": [
        "analyze.nGramsDist(n=2)"
      ]
    },
    {
      "cell_type": "code",
      "execution_count": null,
      "metadata": {},
      "outputs": [],
      "source": []
    },
    {
      "cell_type": "markdown",
      "metadata": {
        "id": "1_tgOB80nIO3"
      },
      "source": [
        "5. Lakukan analisis dan jelaskan temuan kalian."
      ]
    },
    {
      "cell_type": "code",
      "execution_count": null,
      "metadata": {},
      "outputs": [],
      "source": []
    }
  ],
  "metadata": {
    "colab": {
      "collapsed_sections": [],
      "name": "tugas_24_yudi.aditya.89.ipynb",
      "provenance": []
    },
    "kernelspec": {
      "display_name": "Python 3",
      "name": "python3"
    },
    "language_info": {
      "codemirror_mode": {
        "name": "ipython",
        "version": 3
      },
      "file_extension": ".py",
      "mimetype": "text/x-python",
      "name": "python",
      "nbconvert_exporter": "python",
      "pygments_lexer": "ipython3",
      "version": "3.8.10"
    },
    "orig_nbformat": 2
  },
  "nbformat": 4,
  "nbformat_minor": 0
}
