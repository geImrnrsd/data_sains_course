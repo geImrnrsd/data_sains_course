{
 "cells": [
  {
   "cell_type": "markdown",
   "metadata": {},
   "source": [
    "Install nltk library with pip, then download popular library\n",
    "```\n",
    "pip install nltk\n",
    "pip -m nltk.downloader popular\n",
    "```"
   ]
  },
  {
   "cell_type": "code",
   "execution_count": 3,
   "metadata": {},
   "outputs": [
    {
     "name": "stdout",
     "output_type": "stream",
     "text": [
      "['Saya senang bermain bola.', 'Adik saya senang bermain basket.']\n",
      "['Saya', 'senang', 'bermain', 'bola', '.', 'Adik', 'saya', 'senang', 'bermain', 'basket', '.']\n"
     ]
    }
   ],
   "source": [
    "from nltk.tokenize import sent_tokenize, word_tokenize\n",
    "\n",
    "text = \"Saya senang bermain bola. Adik saya senang bermain basket.\"\n",
    "tText = sent_tokenize(text)\n",
    "print(tText)\n",
    "tWord = word_tokenize(text)\n",
    "print(tWord)"
   ]
  },
  {
   "cell_type": "code",
   "execution_count": 4,
   "metadata": {},
   "outputs": [
    {
     "name": "stdout",
     "output_type": "stream",
     "text": [
      "run\n"
     ]
    }
   ],
   "source": [
    "# Stemming\n",
    "# return a word into a base word : running => run\n",
    "# only works with english\n",
    "\n",
    "from nltk.stem import PorterStemmer\n",
    "\n",
    "st = PorterStemmer()\n",
    "print(st.stem('running'))\n"
   ]
  },
  {
   "cell_type": "markdown",
   "metadata": {},
   "source": [
    "To stem for bahasa, install sastrawi first\n",
    "```\n",
    "pip install sastrawi\n",
    "``` "
   ]
  },
  {
   "cell_type": "code",
   "execution_count": 5,
   "metadata": {},
   "outputs": [
    {
     "name": "stdout",
     "output_type": "stream",
     "text": [
      "kembang kuliner di indonesia cukup bangga dalam 10 tahun akhir\n"
     ]
    }
   ],
   "source": [
    "from Sastrawi.Stemmer.StemmerFactory import StemmerFactory\n",
    "\n",
    "factory = StemmerFactory()\n",
    "stemmer = factory.create_stemmer()\n",
    "\n",
    "text = \"Perkembangan kuliner di indonesia cukup membanggakan dalam 10 tahun terakhir\"\n",
    "tText = stemmer.stem(text)\n",
    "print(tText)"
   ]
  },
  {
   "cell_type": "code",
   "execution_count": null,
   "metadata": {},
   "outputs": [],
   "source": []
  }
 ],
 "metadata": {
  "interpreter": {
   "hash": "615be8701402ba7b4e5f0fd3022717ba16fce3a00db1f8a7d4801cb5cde49156"
  },
  "kernelspec": {
   "display_name": "Python 3.8.6 64-bit ('env': venv)",
   "language": "python",
   "name": "python3"
  },
  "language_info": {
   "codemirror_mode": {
    "name": "ipython",
    "version": 3
   },
   "file_extension": ".py",
   "mimetype": "text/x-python",
   "name": "python",
   "nbconvert_exporter": "python",
   "pygments_lexer": "ipython3",
   "version": "3.8.6"
  },
  "orig_nbformat": 4
 },
 "nbformat": 4,
 "nbformat_minor": 2
}
