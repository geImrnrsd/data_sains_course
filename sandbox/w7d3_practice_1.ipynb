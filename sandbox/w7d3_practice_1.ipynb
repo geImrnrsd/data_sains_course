{
 "cells": [
  {
   "cell_type": "code",
   "execution_count": 73,
   "metadata": {},
   "outputs": [],
   "source": [
    "import pandas as pd\n",
    "import numpy as np\n",
    "import matplotlib.pyplot as plt\n",
    "from nltk.tokenize import word_tokenize\n",
    "from nltk.probability import FreqDist\n",
    "from nltk.util import ngrams"
   ]
  },
  {
   "cell_type": "code",
   "execution_count": 58,
   "metadata": {},
   "outputs": [
    {
     "data": {
      "text/html": [
       "<div>\n",
       "<style scoped>\n",
       "    .dataframe tbody tr th:only-of-type {\n",
       "        vertical-align: middle;\n",
       "    }\n",
       "\n",
       "    .dataframe tbody tr th {\n",
       "        vertical-align: top;\n",
       "    }\n",
       "\n",
       "    .dataframe thead th {\n",
       "        text-align: right;\n",
       "    }\n",
       "</style>\n",
       "<table border=\"1\" class=\"dataframe\">\n",
       "  <thead>\n",
       "    <tr style=\"text-align: right;\">\n",
       "      <th></th>\n",
       "      <th>tweet</th>\n",
       "      <th>userid</th>\n",
       "    </tr>\n",
       "  </thead>\n",
       "  <tbody>\n",
       "    <tr>\n",
       "      <th>0</th>\n",
       "      <td>umk sragen ditetapkan rp rp sayang terendah so...</td>\n",
       "      <td>949224511508955136</td>\n",
       "    </tr>\n",
       "    <tr>\n",
       "      <th>1</th>\n",
       "      <td>umk kota bekasi ump dki jakarta yak terobosss😭</td>\n",
       "      <td>1259379786566086658</td>\n",
       "    </tr>\n",
       "    <tr>\n",
       "      <th>2</th>\n",
       "      <td>umk yo regone mundak maneh bos</td>\n",
       "      <td>1572322873</td>\n",
       "    </tr>\n",
       "    <tr>\n",
       "      <th>3</th>\n",
       "      <td>umk kabupatenkota jawa resmi diumumkan kota se...</td>\n",
       "      <td>949224511508955136</td>\n",
       "    </tr>\n",
       "    <tr>\n",
       "      <th>4</th>\n",
       "      <td>sumpah umk malang segini iya mending nyari ker...</td>\n",
       "      <td>181023564</td>\n",
       "    </tr>\n",
       "  </tbody>\n",
       "</table>\n",
       "</div>"
      ],
      "text/plain": [
       "                                               tweet               userid\n",
       "0  umk sragen ditetapkan rp rp sayang terendah so...   949224511508955136\n",
       "1     umk kota bekasi ump dki jakarta yak terobosss😭  1259379786566086658\n",
       "2                     umk yo regone mundak maneh bos           1572322873\n",
       "3  umk kabupatenkota jawa resmi diumumkan kota se...   949224511508955136\n",
       "4  sumpah umk malang segini iya mending nyari ker...            181023564"
      ]
     },
     "execution_count": 58,
     "metadata": {},
     "output_type": "execute_result"
    }
   ],
   "source": [
    "df = pd.read_csv(\"../assets/umk_tweets_202112_clean.csv\")\n",
    "df.head()"
   ]
  },
  {
   "cell_type": "code",
   "execution_count": 59,
   "metadata": {},
   "outputs": [
    {
     "data": {
      "image/png": "[encoded data removed]",
      "text/plain": [
       "<Figure size 432x288 with 1 Axes>"
      ]
     },
     "metadata": {
      "needs_background": "light"
     },
     "output_type": "display_data"
    }
   ],
   "source": [
    "# Sebaran plot histogram jumlah karater per tweet \n",
    "bin_range = np.arange(0,260,10)\n",
    "plt.hist(\n",
    "    x = df['tweet'].str.len(), \n",
    "    bins = bin_range\n",
    ")\n",
    "plt.show()\n",
    "\n",
    "# one line : df['tweet'].str.len().hist(bins=bin_range)"
   ]
  },
  {
   "cell_type": "code",
   "execution_count": 60,
   "metadata": {},
   "outputs": [
    {
     "data": {
      "image/png": "[encoded data removed]",
      "text/plain": [
       "<Figure size 432x288 with 1 Axes>"
      ]
     },
     "metadata": {
      "needs_background": "light"
     },
     "output_type": "display_data"
    }
   ],
   "source": [
    "# Sebaran plot histogram jumlah kata per tweet \n",
    "bin_range = np.arange(0,50)\n",
    "\n",
    "plt.hist(\n",
    "    x = df['tweet'].str.split().map(lambda x : len(x)), \n",
    "    bins = bin_range\n",
    ")\n",
    "plt.show()\n",
    "\n",
    "# one line : df['tweet'].str.split().map(lambda x: len(x)).hist(bins=bin_range)"
   ]
  },
  {
   "cell_type": "code",
   "execution_count": 61,
   "metadata": {},
   "outputs": [
    {
     "data": {
      "image/png": "[encoded data removed]",
      "text/plain": [
       "<Figure size 432x288 with 1 Axes>"
      ]
     },
     "metadata": {
      "needs_background": "light"
     },
     "output_type": "display_data"
    }
   ],
   "source": [
    "# Panjang Kata Rata-Rata Pada Data\n",
    "plt.hist(\n",
    "    x = df['tweet'].str.split().apply(lambda x : [len(i) for i in x]).apply(lambda x : np.mean(x)),\n",
    ")\n",
    "plt.show()\n",
    "\n",
    "# one line : df['tweet'].str.split().apply(lambda x : [len(i) for i in x]).apply(lambda x : np.mean(x)).hist()"
   ]
  },
  {
   "cell_type": "code",
   "execution_count": 62,
   "metadata": {},
   "outputs": [
    {
     "data": {
      "text/html": [
       "<div>\n",
       "<style scoped>\n",
       "    .dataframe tbody tr th:only-of-type {\n",
       "        vertical-align: middle;\n",
       "    }\n",
       "\n",
       "    .dataframe tbody tr th {\n",
       "        vertical-align: top;\n",
       "    }\n",
       "\n",
       "    .dataframe thead th {\n",
       "        text-align: right;\n",
       "    }\n",
       "</style>\n",
       "<table border=\"1\" class=\"dataframe\">\n",
       "  <thead>\n",
       "    <tr style=\"text-align: right;\">\n",
       "      <th></th>\n",
       "      <th>tweet</th>\n",
       "      <th>userid</th>\n",
       "    </tr>\n",
       "  </thead>\n",
       "  <tbody>\n",
       "    <tr>\n",
       "      <th>0</th>\n",
       "      <td>[umk, sragen, ditetapkan, rp, rp, sayang, tere...</td>\n",
       "      <td>949224511508955136</td>\n",
       "    </tr>\n",
       "    <tr>\n",
       "      <th>1</th>\n",
       "      <td>[umk, kota, bekasi, ump, dki, jakarta, yak, te...</td>\n",
       "      <td>1259379786566086658</td>\n",
       "    </tr>\n",
       "    <tr>\n",
       "      <th>2</th>\n",
       "      <td>[umk, yo, regone, mundak, maneh, bos]</td>\n",
       "      <td>1572322873</td>\n",
       "    </tr>\n",
       "    <tr>\n",
       "      <th>3</th>\n",
       "      <td>[umk, kabupatenkota, jawa, resmi, diumumkan, k...</td>\n",
       "      <td>949224511508955136</td>\n",
       "    </tr>\n",
       "    <tr>\n",
       "      <th>4</th>\n",
       "      <td>[sumpah, umk, malang, segini, iya, mending, ny...</td>\n",
       "      <td>181023564</td>\n",
       "    </tr>\n",
       "  </tbody>\n",
       "</table>\n",
       "</div>"
      ],
      "text/plain": [
       "                                               tweet               userid\n",
       "0  [umk, sragen, ditetapkan, rp, rp, sayang, tere...   949224511508955136\n",
       "1  [umk, kota, bekasi, ump, dki, jakarta, yak, te...  1259379786566086658\n",
       "2              [umk, yo, regone, mundak, maneh, bos]           1572322873\n",
       "3  [umk, kabupatenkota, jawa, resmi, diumumkan, k...   949224511508955136\n",
       "4  [sumpah, umk, malang, segini, iya, mending, ny...            181023564"
      ]
     },
     "execution_count": 62,
     "metadata": {},
     "output_type": "execute_result"
    }
   ],
   "source": [
    "# word_tokenize(tweets['tweet'][0])\n",
    "df['tweet'] = df['tweet'].apply(lambda x: word_tokenize(x))\n",
    "df.head()"
   ]
  },
  {
   "cell_type": "code",
   "execution_count": 66,
   "metadata": {},
   "outputs": [],
   "source": [
    "# menggabungkan semua token ke dalam satu list \n",
    "tweets = [word for tweet in df['tweet'] for word in tweet]"
   ]
  },
  {
   "cell_type": "code",
   "execution_count": 68,
   "metadata": {},
   "outputs": [
    {
     "data": {
      "text/plain": [
       "[('umk', 1633),\n",
       " ('jawa', 589),\n",
       " ('tidak', 339),\n",
       " ('buruh', 320),\n",
       " ('kota', 253),\n",
       " ('gubernur', 239),\n",
       " ('timur', 237),\n",
       " ('barat', 236),\n",
       " ('rp', 197),\n",
       " ('upah', 173),\n",
       " ('kabupaten', 169),\n",
       " ('daftar', 156),\n",
       " ('kenaikan', 156),\n",
       " ('gaji', 146),\n",
       " ('besaran', 140),\n",
       " ('tertinggi', 124),\n",
       " ('daerah', 120),\n",
       " ('minimum', 117),\n",
       " ('kabupatenkota', 103),\n",
       " ('banten', 102)]"
      ]
     },
     "execution_count": 68,
     "metadata": {},
     "output_type": "execute_result"
    }
   ],
   "source": [
    "fqdist = FreqDist(tweets)\n",
    "mostCommon = fqdist.most_common(20)\n",
    "mostCommon"
   ]
  },
  {
   "cell_type": "code",
   "execution_count": 70,
   "metadata": {},
   "outputs": [
    {
     "data": {
      "image/png": "[encoded data removed]",
      "text/plain": [
       "<Figure size 432x288 with 1 Axes>"
      ]
     },
     "metadata": {
      "needs_background": "light"
     },
     "output_type": "display_data"
    }
   ],
   "source": [
    "fqdist.plot(20, cumulative=False)\n",
    "plt.show()"
   ]
  },
  {
   "cell_type": "markdown",
   "metadata": {},
   "source": []
  },
  {
   "cell_type": "markdown",
   "metadata": {},
   "source": [
    "### Distribusi N-Gram"
   ]
  },
  {
   "cell_type": "code",
   "execution_count": 76,
   "metadata": {},
   "outputs": [
    {
     "data": {
      "text/plain": [
       "(jawa, timur)               232\n",
       "(jawa, barat)               227\n",
       "(umk, jawa)                 169\n",
       "(upah, minimum)             116\n",
       "(kenaikan, umk)             102\n",
       "(besaran, umk)               93\n",
       "(gubernur, jawa)             77\n",
       "(daftar, umk)                73\n",
       "(ridwan, kamil)              64\n",
       "(umk, kabupaten)             64\n",
       "(gaji, umk)                  63\n",
       "(umk, kota)                  56\n",
       "(rp, ribu)                   55\n",
       "(penetapan, umk)             54\n",
       "(daftar, lengkap)            48\n",
       "(umk, kabupatenkota)         47\n",
       "(kota, bekasi)               47\n",
       "(tetapkan, umk)              45\n",
       "(umk, tidak)                 41\n",
       "(minimum, kabupatenkota)     41\n",
       "dtype: int64"
      ]
     },
     "execution_count": 76,
     "metadata": {},
     "output_type": "execute_result"
    }
   ],
   "source": [
    "result = pd.Series(ngrams(tweets, 2)).value_counts()[:20]\n",
    "result"
   ]
  },
  {
   "cell_type": "code",
   "execution_count": null,
   "metadata": {},
   "outputs": [],
   "source": []
  }
 ],
 "metadata": {
  "interpreter": {
   "hash": "6af33a891e22e05b6b20318624dbb3aee8797ba4ba8b61f964e8c767446ad197"
  },
  "kernelspec": {
   "display_name": "Python 3.8.10 64-bit ('env': venv)",
   "language": "python",
   "name": "python3"
  },
  "language_info": {
   "codemirror_mode": {
    "name": "ipython",
    "version": 3
   },
   "file_extension": ".py",
   "mimetype": "text/x-python",
   "name": "python",
   "nbconvert_exporter": "python",
   "pygments_lexer": "ipython3",
   "version": "3.8.10"
  },
  "orig_nbformat": 4
 },
 "nbformat": 4,
 "nbformat_minor": 2
}
