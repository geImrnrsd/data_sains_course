{
 "cells": [
  {
   "cell_type": "markdown",
   "metadata": {},
   "source": [
    "## Text processing with built in python function"
   ]
  },
  {
   "cell_type": "code",
   "execution_count": 28,
   "metadata": {},
   "outputs": [
    {
     "name": "stdout",
     "output_type": "stream",
     "text": [
      "rendang adalah makanan terenak nomer 1 di dunia yang berasal dari indonesia.\n"
     ]
    }
   ],
   "source": [
    "# transform a text into lowercase\n",
    "\n",
    "text = \"Rendang adalah makanan terenak nomer 1 di Dunia yang berasal dari Indonesia.\"\n",
    "tText = text.lower()\n",
    "print(tText)"
   ]
  },
  {
   "cell_type": "code",
   "execution_count": 6,
   "metadata": {},
   "outputs": [
    {
     "name": "stdout",
     "output_type": "stream",
     "text": [
      "Rendang adalah makanan terenak nomer  di Dunia yang berasal dari Indonesia.\n"
     ]
    }
   ],
   "source": [
    "# removing number\n",
    "import re\n",
    "\n",
    "# replace a <text> that match with a regex pattern (decimal following by any word) by empty string\n",
    "text = \"Rendang adalah makanan terenak nomer 1 di Dunia yang berasal dari Indonesia.\"\n",
    "tText = re.sub(r\"\\d+\", \"\", text)\n",
    "print(tText)"
   ]
  },
  {
   "cell_type": "code",
   "execution_count": 17,
   "metadata": {},
   "outputs": [
    {
     "name": "stdout",
     "output_type": "stream",
     "text": [
      "membaca adalah kunci dari kehidupan\n"
     ]
    }
   ],
   "source": [
    "# remove punctuation\n",
    "import string\n",
    "\n",
    "kalimat = \"membaca& adalah__ kunci dari kehidupan!!\"\n",
    "hasil = kalimat.translate(kalimat.maketrans(\"\",\"\",string.punctuation))\n",
    "\n",
    "# maketrans : replace a char ; <string>.maketrans(<char|word>, <new char | new word>)\n",
    "\n",
    "print(hasil)"
   ]
  },
  {
   "cell_type": "code",
   "execution_count": 19,
   "metadata": {},
   "outputs": [
    {
     "name": "stdout",
     "output_type": "stream",
     "text": [
      "hello world\n"
     ]
    }
   ],
   "source": [
    "# remove whitespaces\n",
    "text = \"\\t hello world  \\n  \"\n",
    "tText = text.strip()\n",
    "print(tText)"
   ]
  },
  {
   "cell_type": "code",
   "execution_count": 22,
   "metadata": {},
   "outputs": [
    {
     "name": "stdout",
     "output_type": "stream",
     "text": [
      "['Aku', 'bermain', 'sepakbola', 'di', 'lapangan']\n"
     ]
    }
   ],
   "source": [
    "# tokenizing\n",
    "text = \"Aku bermain sepakbola di lapangan\"\n",
    "tText = text.split()\n",
    "print(tText)"
   ]
  },
  {
   "cell_type": "code",
   "execution_count": 27,
   "metadata": {},
   "outputs": [
    {
     "name": "stdout",
     "output_type": "stream",
     "text": [
      "budi ani menyukai makanan jepang china\n"
     ]
    }
   ],
   "source": [
    "# filtering stopword\n",
    "def removeStopWord(text, stopwords):\n",
    "    tText = text.split()\n",
    "    tText = [word for word in tText if word not in stopwords ]\n",
    "    return \" \".join(tText)\n",
    "\n",
    "text = \"budi dan ani menyukai makanan jepang dan china\"\n",
    "stopwords = [\"dan\"]\n",
    "\n",
    "print(removeStopWord(text, stopwords))"
   ]
  },
  {
   "cell_type": "code",
   "execution_count": null,
   "metadata": {},
   "outputs": [],
   "source": []
  }
 ],
 "metadata": {
  "interpreter": {
   "hash": "615be8701402ba7b4e5f0fd3022717ba16fce3a00db1f8a7d4801cb5cde49156"
  },
  "kernelspec": {
   "display_name": "Python 3.8.6 64-bit ('env': venv)",
   "language": "python",
   "name": "python3"
  },
  "language_info": {
   "codemirror_mode": {
    "name": "ipython",
    "version": 3
   },
   "file_extension": ".py",
   "mimetype": "text/x-python",
   "name": "python",
   "nbconvert_exporter": "python",
   "pygments_lexer": "ipython3",
   "version": "3.8.6"
  },
  "orig_nbformat": 4
 },
 "nbformat": 4,
 "nbformat_minor": 2
}
