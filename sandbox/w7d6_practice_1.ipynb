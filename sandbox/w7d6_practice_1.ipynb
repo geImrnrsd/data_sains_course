{
 "cells": [
  {
   "cell_type": "markdown",
   "metadata": {},
   "source": [
    "### 1. Data collection\n",
    "Get data from twitter api"
   ]
  },
  {
   "cell_type": "code",
   "execution_count": 11,
   "metadata": {},
   "outputs": [],
   "source": [
    "import tweepy\n",
    "import json\n",
    "\n",
    "with open('../assets/token.json', 'r') as f:\n",
    "    token = json.loads(f.read())\n",
    "\n",
    "auth = tweepy.OAuthHandler(\n",
    "    token['api_key'], \n",
    "    token['api_key_secret']    \n",
    ")\n",
    "auth.set_access_token(\n",
    "    token['access_token'], \n",
    "    token['access_token_secret']\n",
    ")\n",
    "api = tweepy.API(auth)"
   ]
  },
  {
   "cell_type": "markdown",
   "metadata": {},
   "source": []
  },
  {
   "cell_type": "code",
   "execution_count": 13,
   "metadata": {},
   "outputs": [],
   "source": [
    "response = api.search_tweets(q='semeru', lang='id', count=200)"
   ]
  },
  {
   "cell_type": "code",
   "execution_count": 27,
   "metadata": {},
   "outputs": [
    {
     "data": {
      "text/html": [
       "<div>\n",
       "<style scoped>\n",
       "    .dataframe tbody tr th:only-of-type {\n",
       "        vertical-align: middle;\n",
       "    }\n",
       "\n",
       "    .dataframe tbody tr th {\n",
       "        vertical-align: top;\n",
       "    }\n",
       "\n",
       "    .dataframe thead th {\n",
       "        text-align: right;\n",
       "    }\n",
       "</style>\n",
       "<table border=\"1\" class=\"dataframe\">\n",
       "  <thead>\n",
       "    <tr style=\"text-align: right;\">\n",
       "      <th></th>\n",
       "      <th>tweet</th>\n",
       "    </tr>\n",
       "  </thead>\n",
       "  <tbody>\n",
       "    <tr>\n",
       "      <th>0</th>\n",
       "      <td>kok bisa ye semeru di pilipin😭\\n\\n#Semeru #sem...</td>\n",
       "    </tr>\n",
       "    <tr>\n",
       "      <th>1</th>\n",
       "      <td>Semogo penduduk yg terkena dampak erupsi semer...</td>\n",
       "    </tr>\n",
       "    <tr>\n",
       "      <th>2</th>\n",
       "      <td>Sebanyak 45 Orang Alami Luka Bakar Erupsi Gunu...</td>\n",
       "    </tr>\n",
       "    <tr>\n",
       "      <th>3</th>\n",
       "      <td>RT @kyberno: Jangan kasi inisial, karena ini s...</td>\n",
       "    </tr>\n",
       "    <tr>\n",
       "      <th>4</th>\n",
       "      <td>RT @HarugonFC: Mari berdoa yang terbaik untuk ...</td>\n",
       "    </tr>\n",
       "  </tbody>\n",
       "</table>\n",
       "</div>"
      ],
      "text/plain": [
       "                                               tweet\n",
       "0  kok bisa ye semeru di pilipin😭\\n\\n#Semeru #sem...\n",
       "1  Semogo penduduk yg terkena dampak erupsi semer...\n",
       "2  Sebanyak 45 Orang Alami Luka Bakar Erupsi Gunu...\n",
       "3  RT @kyberno: Jangan kasi inisial, karena ini s...\n",
       "4  RT @HarugonFC: Mari berdoa yang terbaik untuk ..."
      ]
     },
     "execution_count": 27,
     "metadata": {},
     "output_type": "execute_result"
    }
   ],
   "source": [
    "import pandas as pd\n",
    "tweets = []\n",
    "for res in response:\n",
    "    tweets.append(res.text)\n",
    "    \n",
    "df = pd.DataFrame(data=tweets, columns=[\"tweet\"])\n",
    "df.head()"
   ]
  },
  {
   "cell_type": "code",
   "execution_count": null,
   "metadata": {},
   "outputs": [],
   "source": []
  },
  {
   "cell_type": "markdown",
   "metadata": {},
   "source": [
    "### 2. Clean dataset\n",
    " "
   ]
  },
  {
   "cell_type": "code",
   "execution_count": 28,
   "metadata": {},
   "outputs": [],
   "source": [
    "import numpy as np\n",
    "import string, re \n",
    "from nltk.tokenize import word_tokenize\n",
    "from nltk.corpus import stopwords\n",
    "from nltk.probability import FreqDist\n",
    "from nltk.util import ngrams\n",
    "from Sastrawi.Stemmer.StemmerFactory import  StemmerFactory"
   ]
  },
  {
   "cell_type": "code",
   "execution_count": 56,
   "metadata": {},
   "outputs": [
    {
     "data": {
      "text/html": [
       "<div>\n",
       "<style scoped>\n",
       "    .dataframe tbody tr th:only-of-type {\n",
       "        vertical-align: middle;\n",
       "    }\n",
       "\n",
       "    .dataframe tbody tr th {\n",
       "        vertical-align: top;\n",
       "    }\n",
       "\n",
       "    .dataframe thead th {\n",
       "        text-align: right;\n",
       "    }\n",
       "</style>\n",
       "<table border=\"1\" class=\"dataframe\">\n",
       "  <thead>\n",
       "    <tr style=\"text-align: right;\">\n",
       "      <th></th>\n",
       "      <th>tweet</th>\n",
       "      <th>clean_tweet</th>\n",
       "      <th>tokenize</th>\n",
       "    </tr>\n",
       "  </thead>\n",
       "  <tbody>\n",
       "    <tr>\n",
       "      <th>0</th>\n",
       "      <td>kok bisa ye semeru di pilipin😭\\n\\n#Semeru #sem...</td>\n",
       "      <td>kok bisa ye semeru di pilipin    semeru  semer...</td>\n",
       "      <td>[ye, semeru, pilipin, semeru, semeruerupsi]</td>\n",
       "    </tr>\n",
       "    <tr>\n",
       "      <th>1</th>\n",
       "      <td>Semogo penduduk yg terkena dampak erupsi semer...</td>\n",
       "      <td>semogo penduduk yg terkena dampak erupsi semer...</td>\n",
       "      <td>[semogo, penduduk, yg, terkena, dampak, erupsi...</td>\n",
       "    </tr>\n",
       "    <tr>\n",
       "      <th>2</th>\n",
       "      <td>Sebanyak 45 Orang Alami Luka Bakar Erupsi Gunu...</td>\n",
       "      <td>sebanyak   orang alami luka bakar erupsi gunun...</td>\n",
       "      <td>[orang, alami, luka, bakar, erupsi, gunung, se...</td>\n",
       "    </tr>\n",
       "    <tr>\n",
       "      <th>3</th>\n",
       "      <td>RT @kyberno: Jangan kasi inisial, karena ini s...</td>\n",
       "      <td>rt    jangan kasi inisial  karena ini sudah si...</td>\n",
       "      <td>[rt, kasi, inisial, sial, nama, nya, randy, ba...</td>\n",
       "    </tr>\n",
       "    <tr>\n",
       "      <th>4</th>\n",
       "      <td>RT @HarugonFC: Mari berdoa yang terbaik untuk ...</td>\n",
       "      <td>rt    mari berdoa yang terbaik untuk saudara s...</td>\n",
       "      <td>[rt, mari, berdoa, terbaik, saudara, saudara, ...</td>\n",
       "    </tr>\n",
       "  </tbody>\n",
       "</table>\n",
       "</div>"
      ],
      "text/plain": [
       "                                               tweet  \\\n",
       "0  kok bisa ye semeru di pilipin😭\\n\\n#Semeru #sem...   \n",
       "1  Semogo penduduk yg terkena dampak erupsi semer...   \n",
       "2  Sebanyak 45 Orang Alami Luka Bakar Erupsi Gunu...   \n",
       "3  RT @kyberno: Jangan kasi inisial, karena ini s...   \n",
       "4  RT @HarugonFC: Mari berdoa yang terbaik untuk ...   \n",
       "\n",
       "                                         clean_tweet  \\\n",
       "0  kok bisa ye semeru di pilipin    semeru  semer...   \n",
       "1  semogo penduduk yg terkena dampak erupsi semer...   \n",
       "2  sebanyak   orang alami luka bakar erupsi gunun...   \n",
       "3  rt    jangan kasi inisial  karena ini sudah si...   \n",
       "4  rt    mari berdoa yang terbaik untuk saudara s...   \n",
       "\n",
       "                                            tokenize  \n",
       "0        [ye, semeru, pilipin, semeru, semeruerupsi]  \n",
       "1  [semogo, penduduk, yg, terkena, dampak, erupsi...  \n",
       "2  [orang, alami, luka, bakar, erupsi, gunung, se...  \n",
       "3  [rt, kasi, inisial, sial, nama, nya, randy, ba...  \n",
       "4  [rt, mari, berdoa, terbaik, saudara, saudara, ...  "
      ]
     },
     "execution_count": 56,
     "metadata": {},
     "output_type": "execute_result"
    }
   ],
   "source": [
    "# Case folding\n",
    "df[\"clean_tweet\"] = df[\"tweet\"].apply(lambda x: x.lower())\n",
    "df[\"clean_tweet\"] = df[\"clean_tweet\"].apply(lambda x: re.sub(\n",
    "    r\"\\d+|(@[A-Za-z0-9]+)|([^0-9A-Za-z \\t])|(\\w+:\\/\\/\\S+)\", \" \", x\n",
    ").strip())\n",
    "df[\"clean_tweet\"] = df[\"clean_tweet\"].apply(lambda x: x.strip())\n",
    "df[\"clean_tweet\"] = df[\"clean_tweet\"].apply(\n",
    "    lambda x: x.translate(x.maketrans(\"\", \"\", string.punctuation))\n",
    ")\n",
    "\n",
    "df.head()"
   ]
  },
  {
   "cell_type": "code",
   "execution_count": 57,
   "metadata": {},
   "outputs": [
    {
     "data": {
      "text/html": [
       "<div>\n",
       "<style scoped>\n",
       "    .dataframe tbody tr th:only-of-type {\n",
       "        vertical-align: middle;\n",
       "    }\n",
       "\n",
       "    .dataframe tbody tr th {\n",
       "        vertical-align: top;\n",
       "    }\n",
       "\n",
       "    .dataframe thead th {\n",
       "        text-align: right;\n",
       "    }\n",
       "</style>\n",
       "<table border=\"1\" class=\"dataframe\">\n",
       "  <thead>\n",
       "    <tr style=\"text-align: right;\">\n",
       "      <th></th>\n",
       "      <th>tweet</th>\n",
       "      <th>clean_tweet</th>\n",
       "      <th>tokenize</th>\n",
       "    </tr>\n",
       "  </thead>\n",
       "  <tbody>\n",
       "    <tr>\n",
       "      <th>0</th>\n",
       "      <td>kok bisa ye semeru di pilipin😭\\n\\n#Semeru #sem...</td>\n",
       "      <td>semeru pilipin semeru semeruerupsi</td>\n",
       "      <td>[kok, bisa, ye, semeru, di, pilipin, semeru, s...</td>\n",
       "    </tr>\n",
       "    <tr>\n",
       "      <th>1</th>\n",
       "      <td>Semogo penduduk yg terkena dampak erupsi semer...</td>\n",
       "      <td>semogo penduduk terkena dampak erupsi semeru k...</td>\n",
       "      <td>[semogo, penduduk, yg, terkena, dampak, erupsi...</td>\n",
       "    </tr>\n",
       "    <tr>\n",
       "      <th>2</th>\n",
       "      <td>Sebanyak 45 Orang Alami Luka Bakar Erupsi Gunu...</td>\n",
       "      <td>orang alami luka bakar erupsi gunung semeru lu...</td>\n",
       "      <td>[sebanyak, orang, alami, luka, bakar, erupsi, ...</td>\n",
       "    </tr>\n",
       "    <tr>\n",
       "      <th>3</th>\n",
       "      <td>RT @kyberno: Jangan kasi inisial, karena ini s...</td>\n",
       "      <td>kasi inisial sial nama nya randy bagus sasongk...</td>\n",
       "      <td>[rt, jangan, kasi, inisial, karena, ini, sudah...</td>\n",
       "    </tr>\n",
       "    <tr>\n",
       "      <th>4</th>\n",
       "      <td>RT @HarugonFC: Mari berdoa yang terbaik untuk ...</td>\n",
       "      <td>mari berdoa terbaik saudara saudara wilayah gu...</td>\n",
       "      <td>[rt, mari, berdoa, yang, terbaik, untuk, sauda...</td>\n",
       "    </tr>\n",
       "  </tbody>\n",
       "</table>\n",
       "</div>"
      ],
      "text/plain": [
       "                                               tweet  \\\n",
       "0  kok bisa ye semeru di pilipin😭\\n\\n#Semeru #sem...   \n",
       "1  Semogo penduduk yg terkena dampak erupsi semer...   \n",
       "2  Sebanyak 45 Orang Alami Luka Bakar Erupsi Gunu...   \n",
       "3  RT @kyberno: Jangan kasi inisial, karena ini s...   \n",
       "4  RT @HarugonFC: Mari berdoa yang terbaik untuk ...   \n",
       "\n",
       "                                         clean_tweet  \\\n",
       "0                 semeru pilipin semeru semeruerupsi   \n",
       "1  semogo penduduk terkena dampak erupsi semeru k...   \n",
       "2  orang alami luka bakar erupsi gunung semeru lu...   \n",
       "3  kasi inisial sial nama nya randy bagus sasongk...   \n",
       "4  mari berdoa terbaik saudara saudara wilayah gu...   \n",
       "\n",
       "                                            tokenize  \n",
       "0  [kok, bisa, ye, semeru, di, pilipin, semeru, s...  \n",
       "1  [semogo, penduduk, yg, terkena, dampak, erupsi...  \n",
       "2  [sebanyak, orang, alami, luka, bakar, erupsi, ...  \n",
       "3  [rt, jangan, kasi, inisial, karena, ini, sudah...  \n",
       "4  [rt, mari, berdoa, yang, terbaik, untuk, sauda...  "
      ]
     },
     "execution_count": 57,
     "metadata": {},
     "output_type": "execute_result"
    }
   ],
   "source": [
    "# remove stop words\n",
    "blackList = stopwords.words('indonesian')\n",
    "blackList.extend([\"yg\", \"kok\", \"dg\", \"ye\", \"rt\"])\n",
    "# print(type(blackList))\n",
    "\n",
    "def stopWordRemoval(text):\n",
    "    textList =  [word for word in text if word not in blackList]\n",
    "    return \" \".join(textList)\n",
    "\n",
    "df[\"tokenize\"] = df[\"clean_tweet\"].apply(lambda x: word_tokenize(x))\n",
    "df[\"clean_tweet\"] = df[\"tokenize\"].apply(stopWordRemoval)\n",
    "df.head()\n"
   ]
  },
  {
   "cell_type": "code",
   "execution_count": 59,
   "metadata": {},
   "outputs": [
    {
     "data": {
      "text/html": [
       "<div>\n",
       "<style scoped>\n",
       "    .dataframe tbody tr th:only-of-type {\n",
       "        vertical-align: middle;\n",
       "    }\n",
       "\n",
       "    .dataframe tbody tr th {\n",
       "        vertical-align: top;\n",
       "    }\n",
       "\n",
       "    .dataframe thead th {\n",
       "        text-align: right;\n",
       "    }\n",
       "</style>\n",
       "<table border=\"1\" class=\"dataframe\">\n",
       "  <thead>\n",
       "    <tr style=\"text-align: right;\">\n",
       "      <th></th>\n",
       "      <th>tweet</th>\n",
       "      <th>clean_tweet</th>\n",
       "      <th>tokenize</th>\n",
       "    </tr>\n",
       "  </thead>\n",
       "  <tbody>\n",
       "    <tr>\n",
       "      <th>0</th>\n",
       "      <td>kok bisa ye semeru di pilipin😭\\n\\n#Semeru #sem...</td>\n",
       "      <td>meru pilipin meru semeruerupsi</td>\n",
       "      <td>[meru, pilipin, meru, semeruerupsi]</td>\n",
       "    </tr>\n",
       "    <tr>\n",
       "      <th>1</th>\n",
       "      <td>Semogo penduduk yg terkena dampak erupsi semer...</td>\n",
       "      <td>semogo duduk kena dampak erupsi meru sabar</td>\n",
       "      <td>[semogo, duduk, kena, dampak, erupsi, meru, sa...</td>\n",
       "    </tr>\n",
       "    <tr>\n",
       "      <th>2</th>\n",
       "      <td>Sebanyak 45 Orang Alami Luka Bakar Erupsi Gunu...</td>\n",
       "      <td>orang alami luka bakar erupsi gunung meru luka...</td>\n",
       "      <td>[orang, alami, luka, bakar, erupsi, gunung, me...</td>\n",
       "    </tr>\n",
       "    <tr>\n",
       "      <th>3</th>\n",
       "      <td>RT @kyberno: Jangan kasi inisial, karena ini s...</td>\n",
       "      <td>kasi inisial sial nama nya randy bagus sasongk...</td>\n",
       "      <td>[kasi, inisial, sial, nama, nya, randy, bagus,...</td>\n",
       "    </tr>\n",
       "    <tr>\n",
       "      <th>4</th>\n",
       "      <td>RT @HarugonFC: Mari berdoa yang terbaik untuk ...</td>\n",
       "      <td>mari doa baik saudara saudara wilayah gunung m...</td>\n",
       "      <td>[mari, doa, baik, saudara, saudara, wilayah, g...</td>\n",
       "    </tr>\n",
       "  </tbody>\n",
       "</table>\n",
       "</div>"
      ],
      "text/plain": [
       "                                               tweet  \\\n",
       "0  kok bisa ye semeru di pilipin😭\\n\\n#Semeru #sem...   \n",
       "1  Semogo penduduk yg terkena dampak erupsi semer...   \n",
       "2  Sebanyak 45 Orang Alami Luka Bakar Erupsi Gunu...   \n",
       "3  RT @kyberno: Jangan kasi inisial, karena ini s...   \n",
       "4  RT @HarugonFC: Mari berdoa yang terbaik untuk ...   \n",
       "\n",
       "                                         clean_tweet  \\\n",
       "0                     meru pilipin meru semeruerupsi   \n",
       "1         semogo duduk kena dampak erupsi meru sabar   \n",
       "2  orang alami luka bakar erupsi gunung meru luka...   \n",
       "3  kasi inisial sial nama nya randy bagus sasongk...   \n",
       "4  mari doa baik saudara saudara wilayah gunung m...   \n",
       "\n",
       "                                            tokenize  \n",
       "0                [meru, pilipin, meru, semeruerupsi]  \n",
       "1  [semogo, duduk, kena, dampak, erupsi, meru, sa...  \n",
       "2  [orang, alami, luka, bakar, erupsi, gunung, me...  \n",
       "3  [kasi, inisial, sial, nama, nya, randy, bagus,...  \n",
       "4  [mari, doa, baik, saudara, saudara, wilayah, g...  "
      ]
     },
     "execution_count": 59,
     "metadata": {},
     "output_type": "execute_result"
    }
   ],
   "source": [
    "def stemming(text):\n",
    "    # stemming\n",
    "    factory = StemmerFactory()\n",
    "    stemmer = factory.create_stemmer()\n",
    "    return stemmer.stem(text)\n",
    "\n",
    "df[\"clean_tweet\"] = df[\"clean_tweet\"].apply(stemming)\n",
    "df[\"tokenize\"] = df[\"clean_tweet\"].apply(lambda x:word_tokenize(x))\n",
    "\n",
    "df.head()"
   ]
  },
  {
   "cell_type": "code",
   "execution_count": 66,
   "metadata": {},
   "outputs": [
    {
     "data": {
      "image/png": "[encoded data removed]",
      "text/plain": [
       "<Figure size 432x288 with 1 Axes>"
      ]
     },
     "metadata": {
      "needs_background": "light"
     },
     "output_type": "display_data"
    }
   ],
   "source": [
    "import matplotlib.pyplot as plt \n",
    "\n",
    "allTweets = [word for tweet in df[\"tokenize\"] for word in tweet]\n",
    "fqdist = FreqDist(allTweets)\n",
    "fqdist.plot(20, cumulative=False)\n",
    "plt.show()"
   ]
  },
  {
   "cell_type": "code",
   "execution_count": 69,
   "metadata": {},
   "outputs": [
    {
     "name": "stdout",
     "output_type": "stream",
     "text": [
      "(gunung, meru)        38\n",
      "(erupsi, meru)        12\n",
      "(stay, safe)          11\n",
      "(erupsi, gunung)      11\n",
      "(at, indonesia)        8\n",
      "(mount, meru)          8\n",
      "(s, mount)             8\n",
      "(indonesia, s)         8\n",
      "(dampak, erupsi)       8\n",
      "(eruption, at)         8\n",
      "(large, eruption)      8\n",
      "(breaking, large)      8\n",
      "(saudara, saudara)     7\n",
      "(meru, moga)           6\n",
      "(meru, erupsi)         6\n",
      "(temen, temen)         5\n",
      "(meru, letus)          5\n",
      "(mari, doa)            5\n",
      "(meru, letup)          5\n",
      "(meru, lumajang)       5\n",
      "dtype: int64\n"
     ]
    }
   ],
   "source": [
    "import nltk\n",
    "result = pd.Series(nltk.ngrams(allTweets, 2)).value_counts()[:20]\n",
    "print(result)"
   ]
  },
  {
   "cell_type": "code",
   "execution_count": 70,
   "metadata": {},
   "outputs": [
    {
     "name": "stdout",
     "output_type": "stream",
     "text": [
      "(erupsi, gunung, meru)         10\n",
      "(indonesia, s, mount)           8\n",
      "(at, indonesia, s)              8\n",
      "(eruption, at, indonesia)       8\n",
      "(large, eruption, at)           8\n",
      "(breaking, large, eruption)     8\n",
      "(s, mount, meru)                8\n",
      "(gunung, meru, letup)           5\n",
      "(dampak, erupsi, meru)          5\n",
      "(gunung, meru, moga)            5\n",
      "(kawan, kawan, meru)            4\n",
      "(gunung, meru, letus)           4\n",
      "(u, ketiban, kanopi)            4\n",
      "(stay, safe, kawan)             4\n",
      "(bismillah, stay, safe)         4\n",
      "(gunung, meru, lumajang)        4\n",
      "(stay, safe, meru)              4\n",
      "(safe, meru, randy)             4\n",
      "(meru, randy, moga)             4\n",
      "(randy, moga, u)                4\n",
      "dtype: int64\n"
     ]
    }
   ],
   "source": [
    "result = pd.Series(nltk.ngrams(allTweets, 3)).value_counts()[:20]\n",
    "print(result)"
   ]
  },
  {
   "cell_type": "code",
   "execution_count": null,
   "metadata": {},
   "outputs": [],
   "source": []
  }
 ],
 "metadata": {
  "interpreter": {
   "hash": "1d5183a3dc65c75bbbffe400f0fac86e5a8c7387a6e598914fc08c3bb87be568"
  },
  "kernelspec": {
   "display_name": "Python 3.8.10 64-bit ('env': venv)",
   "language": "python",
   "name": "python3"
  },
  "language_info": {
   "codemirror_mode": {
    "name": "ipython",
    "version": 3
   },
   "file_extension": ".py",
   "mimetype": "text/x-python",
   "name": "python",
   "nbconvert_exporter": "python",
   "pygments_lexer": "ipython3",
   "version": "3.8.10"
  },
  "orig_nbformat": 4
 },
 "nbformat": 4,
 "nbformat_minor": 2
}
