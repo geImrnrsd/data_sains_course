{
  "nbformat": 4,
  "nbformat_minor": 0,
  "metadata": {
    "colab": {
      "name": "tugas_16_yudi.aditya.89.ipynb",
      "provenance": [],
      "collapsed_sections": []
    },
    "kernelspec": {
      "name": "python3",
      "display_name": "Python 3"
    },
    "language_info": {
      "name": "python"
    }
  },
  "cells": [
    {
      "cell_type": "markdown",
      "metadata": {
        "id": "88N7J1l0-xa0"
      },
      "source": [
        "Tugas ini berupa mini project yang diselesaikan diakhir pertemuan bulan pertama. Tugas disusun sesuai dengan materi yang diberikan tiap harinya di pekan 4. "
      ]
    },
    {
      "cell_type": "markdown",
      "metadata": {
        "id": "IRNtERY8FNe1"
      },
      "source": [
        "# Dataset\n",
        "\n",
        "silahkan unduh dataset berikut untuk mengerjakan tugas pekan 4:\n",
        "\n",
        "[pelanggan_supermarket.csv](https://drive.google.com/uc?export=download&id=1jaxCbZ4fcCneeVCEN-yuxWE0RyX25tbQ)"
      ]
    },
    {
      "cell_type": "markdown",
      "metadata": {
        "id": "Dk_lP4YPF6_i"
      },
      "source": [
        "\n",
        "\n",
        "---\n",
        "\n",
        "\n",
        "\n",
        "---\n",
        "\n",
        "\n",
        "\n",
        "---\n",
        "\n"
      ]
    },
    {
      "cell_type": "code",
      "metadata": {
        "id": "lhN_Ue2qF8nN"
      },
      "source": [
        "import pandas as pd\n",
        "import numpy as np\n",
        "import matplotlib.pyplot as plt\n",
        "import seaborn as sns\n",
        "import scipy.stats as stats\n",
        "import warnings\n",
        "warnings.filterwarnings('ignore')"
      ],
      "execution_count": null,
      "outputs": []
    },
    {
      "cell_type": "code",
      "metadata": {
        "colab": {
          "base_uri": "https://localhost:8080/",
          "height": 417
        },
        "id": "M1tQcd_ILZXq",
        "outputId": "4f678135-45db-48c4-812d-fe3fd3d42c37"
      },
      "source": [
        "import pandas as pd\n",
        "\n",
        "df = pd.read_csv('https://drive.google.com/uc?export=download&id=1jaxCbZ4fcCneeVCEN-yuxWE0RyX25tbQ')\n",
        "df"
      ],
      "execution_count": null,
      "outputs": [
        {
          "output_type": "execute_result",
          "data": {
            "text/html": [
              "<div>\n",
              "<style scoped>\n",
              "    .dataframe tbody tr th:only-of-type {\n",
              "        vertical-align: middle;\n",
              "    }\n",
              "\n",
              "    .dataframe tbody tr th {\n",
              "        vertical-align: top;\n",
              "    }\n",
              "\n",
              "    .dataframe thead th {\n",
              "        text-align: right;\n",
              "    }\n",
              "</style>\n",
              "<table border=\"1\" class=\"dataframe\">\n",
              "  <thead>\n",
              "    <tr style=\"text-align: right;\">\n",
              "      <th></th>\n",
              "      <th>ID_pelanggan</th>\n",
              "      <th>Jenis Kelamin</th>\n",
              "      <th>Umur</th>\n",
              "      <th>Pendapatan pertahun (juta)</th>\n",
              "      <th>Skor Belanja (1-100)</th>\n",
              "    </tr>\n",
              "  </thead>\n",
              "  <tbody>\n",
              "    <tr>\n",
              "      <th>0</th>\n",
              "      <td>1</td>\n",
              "      <td>Laki-laki</td>\n",
              "      <td>19.0</td>\n",
              "      <td>15</td>\n",
              "      <td>39.0</td>\n",
              "    </tr>\n",
              "    <tr>\n",
              "      <th>1</th>\n",
              "      <td>2</td>\n",
              "      <td>Laki-laki</td>\n",
              "      <td>21.0</td>\n",
              "      <td>15</td>\n",
              "      <td>81.0</td>\n",
              "    </tr>\n",
              "    <tr>\n",
              "      <th>2</th>\n",
              "      <td>3</td>\n",
              "      <td>Perempuan</td>\n",
              "      <td>20.0</td>\n",
              "      <td>16</td>\n",
              "      <td>6.0</td>\n",
              "    </tr>\n",
              "    <tr>\n",
              "      <th>3</th>\n",
              "      <td>4</td>\n",
              "      <td>Perempuan</td>\n",
              "      <td>23.0</td>\n",
              "      <td>16</td>\n",
              "      <td>77.0</td>\n",
              "    </tr>\n",
              "    <tr>\n",
              "      <th>4</th>\n",
              "      <td>5</td>\n",
              "      <td>Perempuan</td>\n",
              "      <td>31.0</td>\n",
              "      <td>17</td>\n",
              "      <td>40.0</td>\n",
              "    </tr>\n",
              "    <tr>\n",
              "      <th>...</th>\n",
              "      <td>...</td>\n",
              "      <td>...</td>\n",
              "      <td>...</td>\n",
              "      <td>...</td>\n",
              "      <td>...</td>\n",
              "    </tr>\n",
              "    <tr>\n",
              "      <th>245</th>\n",
              "      <td>246</td>\n",
              "      <td>Laki-laki</td>\n",
              "      <td>59.0</td>\n",
              "      <td>93</td>\n",
              "      <td>14.0</td>\n",
              "    </tr>\n",
              "    <tr>\n",
              "      <th>246</th>\n",
              "      <td>247</td>\n",
              "      <td>Laki-laki</td>\n",
              "      <td>35.0</td>\n",
              "      <td>93</td>\n",
              "      <td>90.0</td>\n",
              "    </tr>\n",
              "    <tr>\n",
              "      <th>247</th>\n",
              "      <td>248</td>\n",
              "      <td>Perempuan</td>\n",
              "      <td>37.0</td>\n",
              "      <td>97</td>\n",
              "      <td>32.0</td>\n",
              "    </tr>\n",
              "    <tr>\n",
              "      <th>248</th>\n",
              "      <td>249</td>\n",
              "      <td>Perempuan</td>\n",
              "      <td>32.0</td>\n",
              "      <td>97</td>\n",
              "      <td>86.0</td>\n",
              "    </tr>\n",
              "    <tr>\n",
              "      <th>249</th>\n",
              "      <td>250</td>\n",
              "      <td>Laki-laki</td>\n",
              "      <td>120.0</td>\n",
              "      <td>98</td>\n",
              "      <td>15.0</td>\n",
              "    </tr>\n",
              "  </tbody>\n",
              "</table>\n",
              "<p>250 rows × 5 columns</p>\n",
              "</div>"
            ],
            "text/plain": [
              "     ID_pelanggan  ... Skor Belanja (1-100)\n",
              "0               1  ...                 39.0\n",
              "1               2  ...                 81.0\n",
              "2               3  ...                  6.0\n",
              "3               4  ...                 77.0\n",
              "4               5  ...                 40.0\n",
              "..            ...  ...                  ...\n",
              "245           246  ...                 14.0\n",
              "246           247  ...                 90.0\n",
              "247           248  ...                 32.0\n",
              "248           249  ...                 86.0\n",
              "249           250  ...                 15.0\n",
              "\n",
              "[250 rows x 5 columns]"
            ]
          },
          "metadata": {},
          "execution_count": 2
        }
      ]
    },
    {
      "cell_type": "markdown",
      "metadata": {
        "id": "aklja_xv_MS9"
      },
      "source": [
        "\n",
        "\n",
        "---\n",
        "\n",
        "\n",
        "\n",
        "---\n",
        "\n",
        "\n",
        "\n",
        "---\n",
        "\n"
      ]
    },
    {
      "cell_type": "markdown",
      "metadata": {
        "id": "zGrxp0w2GFOs"
      },
      "source": [
        "# Soal 1. Statistika Deskriptif\n",
        "\n",
        "lakukan eksplorasi data dengan menggunakan statistika deskriptif. Gunakan pandas untuk mendapatkan summary statistics, dan analisa hasil yang ditampilkan."
      ]
    },
    {
      "cell_type": "code",
      "metadata": {
        "colab": {
          "base_uri": "https://localhost:8080/",
          "height": 203
        },
        "id": "9oGDSw07PIxD",
        "outputId": "98a48b3f-0d30-4815-d0f6-2f02bdbb3b45"
      },
      "source": [
        "df.head()"
      ],
      "execution_count": null,
      "outputs": [
        {
          "output_type": "execute_result",
          "data": {
            "text/html": [
              "<div>\n",
              "<style scoped>\n",
              "    .dataframe tbody tr th:only-of-type {\n",
              "        vertical-align: middle;\n",
              "    }\n",
              "\n",
              "    .dataframe tbody tr th {\n",
              "        vertical-align: top;\n",
              "    }\n",
              "\n",
              "    .dataframe thead th {\n",
              "        text-align: right;\n",
              "    }\n",
              "</style>\n",
              "<table border=\"1\" class=\"dataframe\">\n",
              "  <thead>\n",
              "    <tr style=\"text-align: right;\">\n",
              "      <th></th>\n",
              "      <th>ID_pelanggan</th>\n",
              "      <th>Jenis Kelamin</th>\n",
              "      <th>Umur</th>\n",
              "      <th>Pendapatan pertahun (juta)</th>\n",
              "      <th>Skor Belanja (1-100)</th>\n",
              "    </tr>\n",
              "  </thead>\n",
              "  <tbody>\n",
              "    <tr>\n",
              "      <th>0</th>\n",
              "      <td>1</td>\n",
              "      <td>Laki-laki</td>\n",
              "      <td>19.0</td>\n",
              "      <td>15</td>\n",
              "      <td>39.0</td>\n",
              "    </tr>\n",
              "    <tr>\n",
              "      <th>1</th>\n",
              "      <td>2</td>\n",
              "      <td>Laki-laki</td>\n",
              "      <td>21.0</td>\n",
              "      <td>15</td>\n",
              "      <td>81.0</td>\n",
              "    </tr>\n",
              "    <tr>\n",
              "      <th>2</th>\n",
              "      <td>3</td>\n",
              "      <td>Perempuan</td>\n",
              "      <td>20.0</td>\n",
              "      <td>16</td>\n",
              "      <td>6.0</td>\n",
              "    </tr>\n",
              "    <tr>\n",
              "      <th>3</th>\n",
              "      <td>4</td>\n",
              "      <td>Perempuan</td>\n",
              "      <td>23.0</td>\n",
              "      <td>16</td>\n",
              "      <td>77.0</td>\n",
              "    </tr>\n",
              "    <tr>\n",
              "      <th>4</th>\n",
              "      <td>5</td>\n",
              "      <td>Perempuan</td>\n",
              "      <td>31.0</td>\n",
              "      <td>17</td>\n",
              "      <td>40.0</td>\n",
              "    </tr>\n",
              "  </tbody>\n",
              "</table>\n",
              "</div>"
            ],
            "text/plain": [
              "   ID_pelanggan Jenis Kelamin  ...  Pendapatan pertahun (juta)  Skor Belanja (1-100)\n",
              "0             1     Laki-laki  ...                          15                  39.0\n",
              "1             2     Laki-laki  ...                          15                  81.0\n",
              "2             3     Perempuan  ...                          16                   6.0\n",
              "3             4     Perempuan  ...                          16                  77.0\n",
              "4             5     Perempuan  ...                          17                  40.0\n",
              "\n",
              "[5 rows x 5 columns]"
            ]
          },
          "metadata": {},
          "execution_count": 3
        }
      ]
    },
    {
      "cell_type": "code",
      "metadata": {
        "colab": {
          "base_uri": "https://localhost:8080/"
        },
        "id": "xQ9uwCQoPLP-",
        "outputId": "523be9b4-6d1b-48f7-acbe-5a2cad3049a5"
      },
      "source": [
        "df.info()"
      ],
      "execution_count": null,
      "outputs": [
        {
          "output_type": "stream",
          "name": "stdout",
          "text": [
            "<class 'pandas.core.frame.DataFrame'>\n",
            "RangeIndex: 250 entries, 0 to 249\n",
            "Data columns (total 5 columns):\n",
            " #   Column                      Non-Null Count  Dtype  \n",
            "---  ------                      --------------  -----  \n",
            " 0   ID_pelanggan                250 non-null    int64  \n",
            " 1   Jenis Kelamin               250 non-null    object \n",
            " 2   Umur                        245 non-null    float64\n",
            " 3   Pendapatan pertahun (juta)  250 non-null    int64  \n",
            " 4   Skor Belanja (1-100)        246 non-null    float64\n",
            "dtypes: float64(2), int64(2), object(1)\n",
            "memory usage: 9.9+ KB\n"
          ]
        }
      ]
    },
    {
      "cell_type": "markdown",
      "metadata": {
        "id": "NT1xhp6GRCUQ"
      },
      "source": [
        "Dari data diatas diperoleh informasi sebagai berikut:\n",
        "- Terdapat 250 data yang meliputi informasi ID_pelanggan (int), Jenis Kelamin (string), Umur (float), Pendapatan pertahun (juta) (int), dan Skor Belanja (float).\n",
        "- Dari data diatas terdapat data yang hilang pada kolom Umur dan skor belanja. Data kosong ini perlu ditindaklanjuti sebelum melakukan pengolahan data.\n",
        "- Jika dibagi berdasarkan tipe data, data kategori meliputi : Id_pelanggan dan jenis kelamin, sedangkan data numerik meliputi : Umur, pendapatan dan skor belanja. \n",
        "- Karena ID_pelanggan merupakan identifier, jadi sebenarnya tidak terlalu menarik untuk mengolah atau memnganalisis deskripsi statistik dari nilai tersebut. "
      ]
    },
    {
      "cell_type": "markdown",
      "metadata": {
        "id": "Z7zKe9hfRzdq"
      },
      "source": [
        "**1.1 Jenis Kelamin**\n",
        "\n",
        "Karena jenis kelamin merupakan tipe data kategori, maka yang mungkin kita ambil dari data ini adalah nilai modusnya. Dan dapat diperoleh pada perhitungan berikut bahwa pelanggan didominasi oleh pelanggan berjenis kelamin perempuan."
      ]
    },
    {
      "cell_type": "code",
      "metadata": {
        "colab": {
          "base_uri": "https://localhost:8080/"
        },
        "id": "1YufkDZvSos0",
        "outputId": "781ea0d7-e189-4214-e24a-d08fdfd7d5b4"
      },
      "source": [
        "mode = stats.mode(df[\"Jenis Kelamin\"])\n",
        "print(f\"Modus : {mode[0][0]}\")"
      ],
      "execution_count": null,
      "outputs": [
        {
          "output_type": "stream",
          "name": "stdout",
          "text": [
            "Modus : Perempuan\n"
          ]
        }
      ]
    },
    {
      "cell_type": "markdown",
      "metadata": {
        "id": "eGwf_4zCT857"
      },
      "source": [
        "**1.2 ID_pelanggan, Umur, Pendapatan Pertahun, dan Skor Belanja**"
      ]
    },
    {
      "cell_type": "code",
      "metadata": {
        "colab": {
          "base_uri": "https://localhost:8080/",
          "height": 295
        },
        "id": "1crZdwnXSE3w",
        "outputId": "ff967b61-13f9-452f-885b-dbb5b19ec559"
      },
      "source": [
        "df.describe()"
      ],
      "execution_count": null,
      "outputs": [
        {
          "output_type": "execute_result",
          "data": {
            "text/html": [
              "<div>\n",
              "<style scoped>\n",
              "    .dataframe tbody tr th:only-of-type {\n",
              "        vertical-align: middle;\n",
              "    }\n",
              "\n",
              "    .dataframe tbody tr th {\n",
              "        vertical-align: top;\n",
              "    }\n",
              "\n",
              "    .dataframe thead th {\n",
              "        text-align: right;\n",
              "    }\n",
              "</style>\n",
              "<table border=\"1\" class=\"dataframe\">\n",
              "  <thead>\n",
              "    <tr style=\"text-align: right;\">\n",
              "      <th></th>\n",
              "      <th>ID_pelanggan</th>\n",
              "      <th>Umur</th>\n",
              "      <th>Pendapatan pertahun (juta)</th>\n",
              "      <th>Skor Belanja (1-100)</th>\n",
              "    </tr>\n",
              "  </thead>\n",
              "  <tbody>\n",
              "    <tr>\n",
              "      <th>count</th>\n",
              "      <td>250.000000</td>\n",
              "      <td>245.000000</td>\n",
              "      <td>250.000000</td>\n",
              "      <td>246.000000</td>\n",
              "    </tr>\n",
              "    <tr>\n",
              "      <th>mean</th>\n",
              "      <td>125.500000</td>\n",
              "      <td>38.730612</td>\n",
              "      <td>64.736000</td>\n",
              "      <td>50.325203</td>\n",
              "    </tr>\n",
              "    <tr>\n",
              "      <th>std</th>\n",
              "      <td>72.312977</td>\n",
              "      <td>14.328726</td>\n",
              "      <td>25.112324</td>\n",
              "      <td>28.668121</td>\n",
              "    </tr>\n",
              "    <tr>\n",
              "      <th>min</th>\n",
              "      <td>1.000000</td>\n",
              "      <td>18.000000</td>\n",
              "      <td>15.000000</td>\n",
              "      <td>3.000000</td>\n",
              "    </tr>\n",
              "    <tr>\n",
              "      <th>25%</th>\n",
              "      <td>63.250000</td>\n",
              "      <td>29.000000</td>\n",
              "      <td>47.000000</td>\n",
              "      <td>26.250000</td>\n",
              "    </tr>\n",
              "    <tr>\n",
              "      <th>50%</th>\n",
              "      <td>125.500000</td>\n",
              "      <td>36.000000</td>\n",
              "      <td>70.000000</td>\n",
              "      <td>50.000000</td>\n",
              "    </tr>\n",
              "    <tr>\n",
              "      <th>75%</th>\n",
              "      <td>187.750000</td>\n",
              "      <td>48.000000</td>\n",
              "      <td>78.750000</td>\n",
              "      <td>74.750000</td>\n",
              "    </tr>\n",
              "    <tr>\n",
              "      <th>max</th>\n",
              "      <td>250.000000</td>\n",
              "      <td>120.000000</td>\n",
              "      <td>137.000000</td>\n",
              "      <td>150.000000</td>\n",
              "    </tr>\n",
              "  </tbody>\n",
              "</table>\n",
              "</div>"
            ],
            "text/plain": [
              "       ID_pelanggan  ...  Skor Belanja (1-100)\n",
              "count    250.000000  ...            246.000000\n",
              "mean     125.500000  ...             50.325203\n",
              "std       72.312977  ...             28.668121\n",
              "min        1.000000  ...              3.000000\n",
              "25%       63.250000  ...             26.250000\n",
              "50%      125.500000  ...             50.000000\n",
              "75%      187.750000  ...             74.750000\n",
              "max      250.000000  ...            150.000000\n",
              "\n",
              "[8 rows x 4 columns]"
            ]
          },
          "metadata": {},
          "execution_count": 6
        }
      ]
    },
    {
      "cell_type": "markdown",
      "metadata": {
        "id": "Ex0XN5CXUW2W"
      },
      "source": [
        "**- ID Pelanggan**\n",
        "- Meski tidak ada hal yang menarik pada data ini sebagaimana disampaiakan pada poin sebelumnya, tapi bisa kita gunakan ID pelanggan utuk memeriksa apakah ada dulpikasi data. Duplikasi data bisa diketahui dengan memeriksa banyaknya Id yang unik kemudian membandingkan dengan jumlah data. Jika terdapat data yang duplikasi, mungkin akan dipertimbahkan untuk menghapus salah satu data jika ada aturan pelanggan hanya boleh melakukan review sebanyak satu kali\n"
      ]
    },
    {
      "cell_type": "code",
      "metadata": {
        "colab": {
          "base_uri": "https://localhost:8080/"
        },
        "id": "cyPIuxdlnAV1",
        "outputId": "2c7096c9-fbf1-4c13-d3a4-4ad1d3f9b37d"
      },
      "source": [
        "uniqueId = len(df[\"ID_pelanggan\"].unique())\n",
        "rows, cols = df.shape\n",
        "print(f\"Jumlah ID yang unik ada {uniqueId} dan jumlah data {rows}\")\n",
        "print(\"Tidak ada ID yang duplikat\" if (uniqueId==rows) else \"terdapat duplikasi ID pelanggan\") "
      ],
      "execution_count": null,
      "outputs": [
        {
          "output_type": "stream",
          "name": "stdout",
          "text": [
            "Jumlah ID yang unik ada 250 dan jumlah data 250\n",
            "Tidak ada ID yang duplikat\n"
          ]
        }
      ]
    },
    {
      "cell_type": "markdown",
      "metadata": {
        "id": "fWQ6GNcEEhJw"
      },
      "source": [
        "- Namun jika ID pelanggan dianggap sebuah nilai yang perlu dihitung nilai statistik pada kasus ini, maka bisa kita lihat bahwa rataan id pelanggan adalah 125.5 dengan standar deviasi 72. Sehingga bisa kita lihat bahwa data menyimpang cukup jauh dari rata-rata. Bisa kita lihat juga nilai 25% , 50%, dan 75% data pertama memiliki selisih yang seragam. Dengan kata lain, memiliki distribusi yang simetrik. "
      ]
    },
    {
      "cell_type": "markdown",
      "metadata": {
        "id": "O1axk5KSpDXD"
      },
      "source": [
        "\n",
        "**Umur**\n",
        "- Dari 245 data diperoleh rata-rata umur pelanggan supermarket adalah 38.73 tahun dengan pelanggan termuda 18 tahun dan tertua 120 tahun. Ada dugaan pelanggan dengan usia 120 tahun merupakan umur yang tidak valid, karena harapan hidup manusia di bawah 100 tahun. Datum seperti ini mungkin akan diganti dengan nilai tertentu atau bahkan dihapus. Untuk memastikan datum ini merupakan pencilan, perlu dihitung nilai IQR, kemudian dibandingkan dengan nilai ini.\n",
        "- Dengan nilai simpangan baku 14.32, jarak antara usia pelanggan dengan rata-rata tidak terlalu besar. \n",
        "- Terdapat 5 data yang tidak diketahui umur pelanggan. Data hilang mungkin akan diganti dengan nilai tertentu, misalkan median. Karena simpangan terlalu besar, baiknya nilai tersebut tidak diganti dengan nilai mean karena mean, sangat terpengaruh dengan nilai standar deviasi.\n",
        "\n",
        "**Pendapatan pertahun (juta)**\n",
        "- Rata-rata pendapatan 250 pengunjung supermarket ini adalah 64.74 juta/tahun. Nilai terendah dan tertinggi berturut-turut 15 juta dan 137 juta. Data tersebar cukup jauh dengan range 122juta dan simpangan baku 25 juta. \n",
        "- Pendapatan maksimum ini sedikit mencurigakan, karena selisihnya terlampau jauh dari nilai rata-ratanya. Untuk memastikan data ini merupakan pencilan atau tidak bisa kita periksa baik dengan visualisasi boxplot, metode IQR atau dengan z-index.\n",
        "\n",
        "**Skor Belanja (1-100)**\n",
        "- Pada skala 1-100, penilaian pelanggan terhadap supermarket tidak bisa dikatakan baik, karena rata-rata penilaian di angka 50.32. Dari tabel resume statistik di atas, diperoleh nilai minimum dan nilai maksimum berturut-turut 3 dan 150. \n",
        "- Nilai maksimum jelas merupakan data yang tidak valid karena skor belanja dibatasi pada nilai 1-100. Data ini jelas akan dihapus/diganti dengan nilai lain.\n",
        "- Simpangan nilai minimum skor belanja dengan rata-rata terlampau besar, dengan kata lain merupakan anomali. Mungkin ada kekeliruan pengisian sehingga data ini perlu ditindaklanjuti.  \n",
        "- Karena pada skor belanja terdapat nilai yang tidak diketahui, maka perlu penanganan."
      ]
    },
    {
      "cell_type": "markdown",
      "metadata": {
        "id": "ENATFBsjU6Me"
      },
      "source": [
        "**Expected output**\n",
        "\n",
        "![](https://drive.google.com/uc?id=1-5_d0Ey1lWMXj0d8ABimuPqqTz-h-8mx)"
      ]
    },
    {
      "cell_type": "markdown",
      "metadata": {
        "id": "keRLYMjXHGup"
      },
      "source": [
        "\n",
        "\n",
        "---\n",
        "\n",
        "\n",
        "\n",
        "---\n",
        "\n",
        "\n",
        "\n",
        "---\n",
        "\n"
      ]
    },
    {
      "cell_type": "markdown",
      "metadata": {
        "id": "gqqEXm2yynSB"
      },
      "source": [
        "# Soal 2. Handling missing value\n",
        "\n",
        "Jika dilihat dari summary statistik terlihat dataset memiliki nilai missing. Hitunglah jumlah missing value menggunakan methode .isnull(). \n",
        "\n",
        "Isi nilai nan dengan nilai sebelumnya di row tersebut. gunakan method .fillna() dengan argument method bernilai 'ffill', baca dokumentasi https://pandas.pydata.org/pandas-docs/stable/reference/api/pandas.DataFrame.fillna.html"
      ]
    },
    {
      "cell_type": "code",
      "metadata": {
        "id": "0-czR7PmYyfb",
        "colab": {
          "base_uri": "https://localhost:8080/",
          "height": 281
        },
        "outputId": "af460fd4-f4c4-419e-edaa-444bdec6e33a"
      },
      "source": [
        "print(\"Banyaknya nilai kosong pada data sebelum menerapkan ffill method\")\n",
        "display(df.isnull().sum())\n",
        "\n",
        "# handle mising value with ffill method\n",
        "df.fillna(method=\"ffill\", inplace=True)\n",
        "\n",
        "print(\"\\nBanyaknya nilai kosong pada data setelah menerapkan ffill method\")\n",
        "display(df.isnull().sum())"
      ],
      "execution_count": null,
      "outputs": [
        {
          "output_type": "stream",
          "name": "stdout",
          "text": [
            "Banyaknya nilai kosong pada data sebelum menerapkan ffill method\n"
          ]
        },
        {
          "output_type": "display_data",
          "data": {
            "text/plain": [
              "ID_pelanggan                  0\n",
              "Jenis Kelamin                 0\n",
              "Umur                          5\n",
              "Pendapatan pertahun (juta)    0\n",
              "Skor Belanja (1-100)          4\n",
              "dtype: int64"
            ]
          },
          "metadata": {}
        },
        {
          "output_type": "stream",
          "name": "stdout",
          "text": [
            "\n",
            "Banyaknya nilai kosong pada data setelah menerapkan ffill method\n"
          ]
        },
        {
          "output_type": "display_data",
          "data": {
            "text/plain": [
              "ID_pelanggan                  0\n",
              "Jenis Kelamin                 0\n",
              "Umur                          0\n",
              "Pendapatan pertahun (juta)    0\n",
              "Skor Belanja (1-100)          0\n",
              "dtype: int64"
            ]
          },
          "metadata": {}
        }
      ]
    },
    {
      "cell_type": "code",
      "metadata": {
        "colab": {
          "base_uri": "https://localhost:8080/",
          "height": 417
        },
        "id": "8mW8prLwmDlx",
        "outputId": "b9d32d59-82f6-48a8-bab1-91a1bfc3a17f"
      },
      "source": [
        "df"
      ],
      "execution_count": null,
      "outputs": [
        {
          "output_type": "execute_result",
          "data": {
            "text/html": [
              "<div>\n",
              "<style scoped>\n",
              "    .dataframe tbody tr th:only-of-type {\n",
              "        vertical-align: middle;\n",
              "    }\n",
              "\n",
              "    .dataframe tbody tr th {\n",
              "        vertical-align: top;\n",
              "    }\n",
              "\n",
              "    .dataframe thead th {\n",
              "        text-align: right;\n",
              "    }\n",
              "</style>\n",
              "<table border=\"1\" class=\"dataframe\">\n",
              "  <thead>\n",
              "    <tr style=\"text-align: right;\">\n",
              "      <th></th>\n",
              "      <th>ID_pelanggan</th>\n",
              "      <th>Jenis Kelamin</th>\n",
              "      <th>Umur</th>\n",
              "      <th>Pendapatan pertahun (juta)</th>\n",
              "      <th>Skor Belanja (1-100)</th>\n",
              "    </tr>\n",
              "  </thead>\n",
              "  <tbody>\n",
              "    <tr>\n",
              "      <th>0</th>\n",
              "      <td>1</td>\n",
              "      <td>Laki-laki</td>\n",
              "      <td>19.0</td>\n",
              "      <td>15</td>\n",
              "      <td>39.0</td>\n",
              "    </tr>\n",
              "    <tr>\n",
              "      <th>1</th>\n",
              "      <td>2</td>\n",
              "      <td>Laki-laki</td>\n",
              "      <td>21.0</td>\n",
              "      <td>15</td>\n",
              "      <td>81.0</td>\n",
              "    </tr>\n",
              "    <tr>\n",
              "      <th>2</th>\n",
              "      <td>3</td>\n",
              "      <td>Perempuan</td>\n",
              "      <td>20.0</td>\n",
              "      <td>16</td>\n",
              "      <td>6.0</td>\n",
              "    </tr>\n",
              "    <tr>\n",
              "      <th>3</th>\n",
              "      <td>4</td>\n",
              "      <td>Perempuan</td>\n",
              "      <td>23.0</td>\n",
              "      <td>16</td>\n",
              "      <td>77.0</td>\n",
              "    </tr>\n",
              "    <tr>\n",
              "      <th>4</th>\n",
              "      <td>5</td>\n",
              "      <td>Perempuan</td>\n",
              "      <td>31.0</td>\n",
              "      <td>17</td>\n",
              "      <td>40.0</td>\n",
              "    </tr>\n",
              "    <tr>\n",
              "      <th>...</th>\n",
              "      <td>...</td>\n",
              "      <td>...</td>\n",
              "      <td>...</td>\n",
              "      <td>...</td>\n",
              "      <td>...</td>\n",
              "    </tr>\n",
              "    <tr>\n",
              "      <th>245</th>\n",
              "      <td>246</td>\n",
              "      <td>Laki-laki</td>\n",
              "      <td>59.0</td>\n",
              "      <td>93</td>\n",
              "      <td>14.0</td>\n",
              "    </tr>\n",
              "    <tr>\n",
              "      <th>246</th>\n",
              "      <td>247</td>\n",
              "      <td>Laki-laki</td>\n",
              "      <td>35.0</td>\n",
              "      <td>93</td>\n",
              "      <td>90.0</td>\n",
              "    </tr>\n",
              "    <tr>\n",
              "      <th>247</th>\n",
              "      <td>248</td>\n",
              "      <td>Perempuan</td>\n",
              "      <td>37.0</td>\n",
              "      <td>97</td>\n",
              "      <td>32.0</td>\n",
              "    </tr>\n",
              "    <tr>\n",
              "      <th>248</th>\n",
              "      <td>249</td>\n",
              "      <td>Perempuan</td>\n",
              "      <td>32.0</td>\n",
              "      <td>97</td>\n",
              "      <td>86.0</td>\n",
              "    </tr>\n",
              "    <tr>\n",
              "      <th>249</th>\n",
              "      <td>250</td>\n",
              "      <td>Laki-laki</td>\n",
              "      <td>120.0</td>\n",
              "      <td>98</td>\n",
              "      <td>15.0</td>\n",
              "    </tr>\n",
              "  </tbody>\n",
              "</table>\n",
              "<p>250 rows × 5 columns</p>\n",
              "</div>"
            ],
            "text/plain": [
              "     ID_pelanggan  ... Skor Belanja (1-100)\n",
              "0               1  ...                 39.0\n",
              "1               2  ...                 81.0\n",
              "2               3  ...                  6.0\n",
              "3               4  ...                 77.0\n",
              "4               5  ...                 40.0\n",
              "..            ...  ...                  ...\n",
              "245           246  ...                 14.0\n",
              "246           247  ...                 90.0\n",
              "247           248  ...                 32.0\n",
              "248           249  ...                 86.0\n",
              "249           250  ...                 15.0\n",
              "\n",
              "[250 rows x 5 columns]"
            ]
          },
          "metadata": {},
          "execution_count": 9
        }
      ]
    },
    {
      "cell_type": "markdown",
      "metadata": {
        "id": "sy1o6Lhs_QJy"
      },
      "source": [
        "\n",
        "\n",
        "---\n",
        "\n",
        "\n",
        "\n",
        "---\n",
        "\n",
        "\n",
        "\n",
        "---\n",
        "\n"
      ]
    },
    {
      "cell_type": "markdown",
      "metadata": {
        "id": "0ch4lp680ZNj"
      },
      "source": [
        "# Soal 3. Handling outlier\n",
        "\n",
        "1. Apakah data set memiliki nilai pencilan untuk setiap kolom? periksalah dengan melakukan visualisasi menggunakan boxplot.\n",
        "2. Handling outlier tersebut dengan menggunakan teknik trimming / removing outliers (menggunakan teknik IQR)\n",
        "3. simpan data hasil handling outlier ke dalam variabel df2\n",
        "4. Teknik ini akan menghasilkan nilai missing pada nilai outlier yang telah dihapus, maka hapuslah data missing tersebut dengan menggunakan method .dropna()"
      ]
    },
    {
      "cell_type": "code",
      "metadata": {
        "id": "I7rBFx85mOaO"
      },
      "source": [
        "import math\n",
        "class MultiplePlot:\n",
        "  def __init__(self, df,columns, ncols=None, figsize=(16,4)):\n",
        "    self.df = df\n",
        "    self.ncols = ncols if ncols!=None else 1\n",
        "    self.nrows = math.ceil(len(columns)/self.ncols)\n",
        "    self.figsize = figsize\n",
        "    self.columns = columns\n",
        "    self.__createFrame()\n",
        "  \n",
        "  def __createFrame(self):\n",
        "    self.fig, self.ax = plt.subplots(\n",
        "      ncols=self.ncols, \n",
        "      nrows=self.nrows, \n",
        "      figsize=self.figsize\n",
        "    )\n",
        "  \n",
        "  def getPlotFunction(self, type) :\n",
        "    plotFunc = sns.lineplot\n",
        "    if (type==\"boxplot\"):\n",
        "      plotFunc = sns.boxplot \n",
        "    elif (type==\"distplot\"):\n",
        "      plotFunc = sns.distplot\n",
        "    return plotFunc\n",
        "\n",
        "  def plot(self, type):\n",
        "    plotFunc = self.getPlotFunction(type)\n",
        "    idCol=0\n",
        "    for (idx, row) in enumerate(self.ax):\n",
        "      for (idy, el) in enumerate(row):\n",
        "        if (idCol<len(self.columns)):\n",
        "          plotFunc(ax=self.ax[idx][idy], x=self.df[self.columns[idCol]])\n",
        "          self.ax[idx][idy].set_xlabel(self.columns[idCol])\n",
        "        else:\n",
        "          self.fig.delaxes(self.ax[idx][idy])\n",
        "        idCol+=1\n",
        "  \n",
        "  def show(self):\n",
        "    self.fig.tight_layout(pad=1.5)\n",
        "    self.fig.show()"
      ],
      "execution_count": null,
      "outputs": []
    },
    {
      "cell_type": "code",
      "metadata": {
        "colab": {
          "base_uri": "https://localhost:8080/",
          "height": 433
        },
        "id": "VliguWwS16ZL",
        "outputId": "1c4de830-3b77-4259-abda-4551d92d9dae"
      },
      "source": [
        "columns = [ \n",
        "           \"ID_pelanggan\", \n",
        "           \"Umur\", \n",
        "           \"Pendapatan pertahun (juta)\", \n",
        "           \"Skor Belanja (1-100)\"\n",
        "          ]\n",
        "\n",
        "boxplot = MultiplePlot(\n",
        "    df=df, \n",
        "    columns=columns, \n",
        "    ncols=3, \n",
        "    figsize=(14.5,6)\n",
        ")\n",
        "\n",
        "boxplot.plot(\"boxplot\")\n",
        "boxplot.show()"
      ],
      "execution_count": null,
      "outputs": [
        {
          "output_type": "display_data",
          "data": {
            "image/png": "[encoded data removed]",
            "text/plain": [
              "<Figure size 1044x432 with 4 Axes>"
            ]
          },
          "metadata": {
            "needs_background": "light"
          }
        }
      ]
    },
    {
      "cell_type": "markdown",
      "metadata": {
        "id": "ylpUDuH2qG_j"
      },
      "source": [
        "Pada grafik diatas nampak bahwa terdapat data pencilan pada kolom \"Umur\", \"Pendapatan\" dan \"skor belanja\"."
      ]
    },
    {
      "cell_type": "markdown",
      "metadata": {
        "id": "71J4kYuHVkbn"
      },
      "source": [
        "**Expected output**\n",
        "\n",
        "Melihat adanya pencilan menggunakan Boxplot\n",
        "\n",
        "![](https://drive.google.com/uc?id=1ettD4G8xBMCYcMUVt88kn5k_yCufgdyf)"
      ]
    },
    {
      "cell_type": "code",
      "metadata": {
        "id": "zbJ6FOSDe01L"
      },
      "source": [
        "def getBoundary(df, isDisplay=False):\n",
        "  q1 = df.quantile(0.25)\n",
        "  q3 = df.quantile(0.75)\n",
        "  iqr = q3 -q1\n",
        "\n",
        "  LIMIT = 1.5 * iqr\n",
        "  lowerBound = q1 - LIMIT\n",
        "  upperBound = q3 + LIMIT\n",
        "  \n",
        "  if (isDisplay):\n",
        "    print(\"\\n===== IQR =====\")  \n",
        "    display(iqr)\n",
        "    print(\"\\n===== Batas Bawah =====\")\n",
        "    print(lowerBound)\n",
        "    print(\"\\n===== Batas Atas =====\")\n",
        "    print(upperBound)\n",
        "\n",
        "  return [lowerBound, upperBound]\n",
        "\n",
        "def removeOutlierWithIqr(df, isDisplay=False):\n",
        "  [lowerBound, upperBound] = getBoundary(df, isDisplay)\n",
        "  isOutlier = ((df < lowerBound) | (df > upperBound)).any(axis=1)\n",
        "  print(\"\\n===== The Outliers =====\")\n",
        "  display(df[isOutlier])\n",
        "  cleanedDf = df[~isOutlier]\n",
        "  if (isDisplay):\n",
        "    print(\"\\ndata before removing outliers:\", df.shape[0])\n",
        "    print(\"data after removing outliers:\", cleanedDf.shape[0])\n",
        "  return cleanedDf\n"
      ],
      "execution_count": null,
      "outputs": []
    },
    {
      "cell_type": "code",
      "metadata": {
        "colab": {
          "base_uri": "https://localhost:8080/",
          "height": 1000
        },
        "id": "N8Le0WqbmP-h",
        "outputId": "d86ba572-7196-4655-db7c-7770cd5e2525"
      },
      "source": [
        "df2 = removeOutlierWithIqr(df, True)\n",
        "print(\"\\n===== Cleaned Data =====\")\n",
        "df2"
      ],
      "execution_count": null,
      "outputs": [
        {
          "output_type": "stream",
          "name": "stdout",
          "text": [
            "\n",
            "===== IQR =====\n"
          ]
        },
        {
          "output_type": "display_data",
          "data": {
            "text/plain": [
              "ID_pelanggan                  124.50\n",
              "Umur                           19.00\n",
              "Pendapatan pertahun (juta)     31.75\n",
              "Skor Belanja (1-100)           47.00\n",
              "dtype: float64"
            ]
          },
          "metadata": {}
        },
        {
          "output_type": "stream",
          "name": "stdout",
          "text": [
            "\n",
            "===== Batas Bawah =====\n",
            "ID_pelanggan                 -123.500\n",
            "Umur                            0.500\n",
            "Pendapatan pertahun (juta)     -0.625\n",
            "Skor Belanja (1-100)          -43.500\n",
            "dtype: float64\n",
            "\n",
            "===== Batas Atas =====\n",
            "ID_pelanggan                  374.500\n",
            "Umur                           76.500\n",
            "Pendapatan pertahun (juta)    126.375\n",
            "Skor Belanja (1-100)          144.500\n",
            "dtype: float64\n",
            "\n",
            "===== The Outliers =====\n"
          ]
        },
        {
          "output_type": "display_data",
          "data": {
            "text/html": [
              "<div>\n",
              "<style scoped>\n",
              "    .dataframe tbody tr th:only-of-type {\n",
              "        vertical-align: middle;\n",
              "    }\n",
              "\n",
              "    .dataframe tbody tr th {\n",
              "        vertical-align: top;\n",
              "    }\n",
              "\n",
              "    .dataframe thead th {\n",
              "        text-align: right;\n",
              "    }\n",
              "</style>\n",
              "<table border=\"1\" class=\"dataframe\">\n",
              "  <thead>\n",
              "    <tr style=\"text-align: right;\">\n",
              "      <th></th>\n",
              "      <th>ID_pelanggan</th>\n",
              "      <th>Jenis Kelamin</th>\n",
              "      <th>Umur</th>\n",
              "      <th>Pendapatan pertahun (juta)</th>\n",
              "      <th>Skor Belanja (1-100)</th>\n",
              "    </tr>\n",
              "  </thead>\n",
              "  <tbody>\n",
              "    <tr>\n",
              "      <th>16</th>\n",
              "      <td>17</td>\n",
              "      <td>Perempuan</td>\n",
              "      <td>35.0</td>\n",
              "      <td>21</td>\n",
              "      <td>150.0</td>\n",
              "    </tr>\n",
              "    <tr>\n",
              "      <th>198</th>\n",
              "      <td>199</td>\n",
              "      <td>Laki-laki</td>\n",
              "      <td>32.0</td>\n",
              "      <td>137</td>\n",
              "      <td>18.0</td>\n",
              "    </tr>\n",
              "    <tr>\n",
              "      <th>199</th>\n",
              "      <td>200</td>\n",
              "      <td>Laki-laki</td>\n",
              "      <td>30.0</td>\n",
              "      <td>137</td>\n",
              "      <td>83.0</td>\n",
              "    </tr>\n",
              "    <tr>\n",
              "      <th>249</th>\n",
              "      <td>250</td>\n",
              "      <td>Laki-laki</td>\n",
              "      <td>120.0</td>\n",
              "      <td>98</td>\n",
              "      <td>15.0</td>\n",
              "    </tr>\n",
              "  </tbody>\n",
              "</table>\n",
              "</div>"
            ],
            "text/plain": [
              "     ID_pelanggan  ... Skor Belanja (1-100)\n",
              "16             17  ...                150.0\n",
              "198           199  ...                 18.0\n",
              "199           200  ...                 83.0\n",
              "249           250  ...                 15.0\n",
              "\n",
              "[4 rows x 5 columns]"
            ]
          },
          "metadata": {}
        },
        {
          "output_type": "stream",
          "name": "stdout",
          "text": [
            "\n",
            "data before removing outliers: 250\n",
            "data after removing outliers: 246\n",
            "\n",
            "===== Cleaned Data =====\n"
          ]
        },
        {
          "output_type": "execute_result",
          "data": {
            "text/html": [
              "<div>\n",
              "<style scoped>\n",
              "    .dataframe tbody tr th:only-of-type {\n",
              "        vertical-align: middle;\n",
              "    }\n",
              "\n",
              "    .dataframe tbody tr th {\n",
              "        vertical-align: top;\n",
              "    }\n",
              "\n",
              "    .dataframe thead th {\n",
              "        text-align: right;\n",
              "    }\n",
              "</style>\n",
              "<table border=\"1\" class=\"dataframe\">\n",
              "  <thead>\n",
              "    <tr style=\"text-align: right;\">\n",
              "      <th></th>\n",
              "      <th>ID_pelanggan</th>\n",
              "      <th>Jenis Kelamin</th>\n",
              "      <th>Umur</th>\n",
              "      <th>Pendapatan pertahun (juta)</th>\n",
              "      <th>Skor Belanja (1-100)</th>\n",
              "    </tr>\n",
              "  </thead>\n",
              "  <tbody>\n",
              "    <tr>\n",
              "      <th>0</th>\n",
              "      <td>1</td>\n",
              "      <td>Laki-laki</td>\n",
              "      <td>19.0</td>\n",
              "      <td>15</td>\n",
              "      <td>39.0</td>\n",
              "    </tr>\n",
              "    <tr>\n",
              "      <th>1</th>\n",
              "      <td>2</td>\n",
              "      <td>Laki-laki</td>\n",
              "      <td>21.0</td>\n",
              "      <td>15</td>\n",
              "      <td>81.0</td>\n",
              "    </tr>\n",
              "    <tr>\n",
              "      <th>2</th>\n",
              "      <td>3</td>\n",
              "      <td>Perempuan</td>\n",
              "      <td>20.0</td>\n",
              "      <td>16</td>\n",
              "      <td>6.0</td>\n",
              "    </tr>\n",
              "    <tr>\n",
              "      <th>3</th>\n",
              "      <td>4</td>\n",
              "      <td>Perempuan</td>\n",
              "      <td>23.0</td>\n",
              "      <td>16</td>\n",
              "      <td>77.0</td>\n",
              "    </tr>\n",
              "    <tr>\n",
              "      <th>4</th>\n",
              "      <td>5</td>\n",
              "      <td>Perempuan</td>\n",
              "      <td>31.0</td>\n",
              "      <td>17</td>\n",
              "      <td>40.0</td>\n",
              "    </tr>\n",
              "    <tr>\n",
              "      <th>...</th>\n",
              "      <td>...</td>\n",
              "      <td>...</td>\n",
              "      <td>...</td>\n",
              "      <td>...</td>\n",
              "      <td>...</td>\n",
              "    </tr>\n",
              "    <tr>\n",
              "      <th>244</th>\n",
              "      <td>245</td>\n",
              "      <td>Laki-laki</td>\n",
              "      <td>27.0</td>\n",
              "      <td>88</td>\n",
              "      <td>69.0</td>\n",
              "    </tr>\n",
              "    <tr>\n",
              "      <th>245</th>\n",
              "      <td>246</td>\n",
              "      <td>Laki-laki</td>\n",
              "      <td>59.0</td>\n",
              "      <td>93</td>\n",
              "      <td>14.0</td>\n",
              "    </tr>\n",
              "    <tr>\n",
              "      <th>246</th>\n",
              "      <td>247</td>\n",
              "      <td>Laki-laki</td>\n",
              "      <td>35.0</td>\n",
              "      <td>93</td>\n",
              "      <td>90.0</td>\n",
              "    </tr>\n",
              "    <tr>\n",
              "      <th>247</th>\n",
              "      <td>248</td>\n",
              "      <td>Perempuan</td>\n",
              "      <td>37.0</td>\n",
              "      <td>97</td>\n",
              "      <td>32.0</td>\n",
              "    </tr>\n",
              "    <tr>\n",
              "      <th>248</th>\n",
              "      <td>249</td>\n",
              "      <td>Perempuan</td>\n",
              "      <td>32.0</td>\n",
              "      <td>97</td>\n",
              "      <td>86.0</td>\n",
              "    </tr>\n",
              "  </tbody>\n",
              "</table>\n",
              "<p>246 rows × 5 columns</p>\n",
              "</div>"
            ],
            "text/plain": [
              "     ID_pelanggan  ... Skor Belanja (1-100)\n",
              "0               1  ...                 39.0\n",
              "1               2  ...                 81.0\n",
              "2               3  ...                  6.0\n",
              "3               4  ...                 77.0\n",
              "4               5  ...                 40.0\n",
              "..            ...  ...                  ...\n",
              "244           245  ...                 69.0\n",
              "245           246  ...                 14.0\n",
              "246           247  ...                 90.0\n",
              "247           248  ...                 32.0\n",
              "248           249  ...                 86.0\n",
              "\n",
              "[246 rows x 5 columns]"
            ]
          },
          "metadata": {},
          "execution_count": 13
        }
      ]
    },
    {
      "cell_type": "markdown",
      "metadata": {
        "id": "0ko7D6b3cVmT"
      },
      "source": [
        "Seteleh menghapus outlier dari data dengan menggunakan metode IQR, diperoleh 246 data. Namun jika diplot kembali dengan menggunakan boxplot sebagaimana gambar di bawah, terdapat outlier yang baru. Ini terjadi karena terdapat perhitungan ulang nilai IQR dengan data baru."
      ]
    },
    {
      "cell_type": "code",
      "metadata": {
        "colab": {
          "base_uri": "https://localhost:8080/",
          "height": 433
        },
        "id": "aO99wSJtqN4E",
        "outputId": "7064201f-6d8d-4d68-9bd7-02da635905fa"
      },
      "source": [
        "boxplot = MultiplePlot(\n",
        "    df=df2, \n",
        "    columns=columns, \n",
        "    ncols=3, \n",
        "    figsize=(14.5,6)\n",
        ")\n",
        "\n",
        "boxplot.plot(\"boxplot\")\n",
        "boxplot.show()"
      ],
      "execution_count": null,
      "outputs": [
        {
          "output_type": "display_data",
          "data": {
            "image/png": "[encoded data removed]",
            "text/plain": [
              "<Figure size 1044x432 with 4 Axes>"
            ]
          },
          "metadata": {
            "needs_background": "light"
          }
        }
      ]
    },
    {
      "cell_type": "markdown",
      "metadata": {
        "id": "mpSdl95j_TVj"
      },
      "source": [
        "\n",
        "\n",
        "---\n",
        "\n",
        "\n",
        "\n",
        "---\n",
        "\n",
        "\n",
        "\n",
        "---\n",
        "\n"
      ]
    },
    {
      "cell_type": "markdown",
      "metadata": {
        "id": "YKODTt1z7XTq"
      },
      "source": [
        "# Soal 4. statistika Inferential\n",
        "\n",
        "\n",
        "\n",
        "*   Kita akan melakukan hipotesis terhadap 100 sample pengunjung Supermarket. Hipotesis awal adalah rata2 usia pengunjung supermarket di atas 35 tahun. Ujilah hipotesis tersebut dengan menggunakan teknik klasik (z-testing) dan probabilitas p-value)!\n",
        "*   Gunakan variabel dataframe hasil handling missing value dan outlier di no soal sebelumnya\n",
        "*   Untuk mempermudah perhitungan, ubahlah tipe data kolom Umur menjadi int dengan menggunakan methode .astype() baca dokumentasi https://pandas.pydata.org/pandas-docs/stable/reference/api/pandas.DataFrame.astype.html\n",
        "\n",
        "\n",
        "\n"
      ]
    },
    {
      "cell_type": "code",
      "metadata": {
        "id": "vbbAAoRbZMz3",
        "colab": {
          "base_uri": "https://localhost:8080/",
          "height": 417
        },
        "outputId": "ccbe94bb-0c35-44ad-c48b-685a97698df2"
      },
      "source": [
        "df_100 = df2.sample(100,  random_state=1)\n",
        "display(df_100)\n"
      ],
      "execution_count": null,
      "outputs": [
        {
          "output_type": "display_data",
          "data": {
            "text/html": [
              "<div>\n",
              "<style scoped>\n",
              "    .dataframe tbody tr th:only-of-type {\n",
              "        vertical-align: middle;\n",
              "    }\n",
              "\n",
              "    .dataframe tbody tr th {\n",
              "        vertical-align: top;\n",
              "    }\n",
              "\n",
              "    .dataframe thead th {\n",
              "        text-align: right;\n",
              "    }\n",
              "</style>\n",
              "<table border=\"1\" class=\"dataframe\">\n",
              "  <thead>\n",
              "    <tr style=\"text-align: right;\">\n",
              "      <th></th>\n",
              "      <th>ID_pelanggan</th>\n",
              "      <th>Jenis Kelamin</th>\n",
              "      <th>Umur</th>\n",
              "      <th>Pendapatan pertahun (juta)</th>\n",
              "      <th>Skor Belanja (1-100)</th>\n",
              "    </tr>\n",
              "  </thead>\n",
              "  <tbody>\n",
              "    <tr>\n",
              "      <th>68</th>\n",
              "      <td>69</td>\n",
              "      <td>Laki-laki</td>\n",
              "      <td>19.0</td>\n",
              "      <td>48</td>\n",
              "      <td>59.0</td>\n",
              "    </tr>\n",
              "    <tr>\n",
              "      <th>248</th>\n",
              "      <td>249</td>\n",
              "      <td>Perempuan</td>\n",
              "      <td>32.0</td>\n",
              "      <td>97</td>\n",
              "      <td>86.0</td>\n",
              "    </tr>\n",
              "    <tr>\n",
              "      <th>211</th>\n",
              "      <td>212</td>\n",
              "      <td>Laki-laki</td>\n",
              "      <td>25.0</td>\n",
              "      <td>77</td>\n",
              "      <td>12.0</td>\n",
              "    </tr>\n",
              "    <tr>\n",
              "      <th>225</th>\n",
              "      <td>226</td>\n",
              "      <td>Laki-laki</td>\n",
              "      <td>30.0</td>\n",
              "      <td>78</td>\n",
              "      <td>4.0</td>\n",
              "    </tr>\n",
              "    <tr>\n",
              "      <th>91</th>\n",
              "      <td>92</td>\n",
              "      <td>Laki-laki</td>\n",
              "      <td>18.0</td>\n",
              "      <td>59</td>\n",
              "      <td>41.0</td>\n",
              "    </tr>\n",
              "    <tr>\n",
              "      <th>...</th>\n",
              "      <td>...</td>\n",
              "      <td>...</td>\n",
              "      <td>...</td>\n",
              "      <td>...</td>\n",
              "      <td>...</td>\n",
              "    </tr>\n",
              "    <tr>\n",
              "      <th>5</th>\n",
              "      <td>6</td>\n",
              "      <td>Perempuan</td>\n",
              "      <td>22.0</td>\n",
              "      <td>17</td>\n",
              "      <td>76.0</td>\n",
              "    </tr>\n",
              "    <tr>\n",
              "      <th>184</th>\n",
              "      <td>185</td>\n",
              "      <td>Perempuan</td>\n",
              "      <td>41.0</td>\n",
              "      <td>99</td>\n",
              "      <td>39.0</td>\n",
              "    </tr>\n",
              "    <tr>\n",
              "      <th>186</th>\n",
              "      <td>187</td>\n",
              "      <td>Perempuan</td>\n",
              "      <td>54.0</td>\n",
              "      <td>101</td>\n",
              "      <td>24.0</td>\n",
              "    </tr>\n",
              "    <tr>\n",
              "      <th>49</th>\n",
              "      <td>50</td>\n",
              "      <td>Perempuan</td>\n",
              "      <td>31.0</td>\n",
              "      <td>40</td>\n",
              "      <td>42.0</td>\n",
              "    </tr>\n",
              "    <tr>\n",
              "      <th>201</th>\n",
              "      <td>202</td>\n",
              "      <td>Laki-laki</td>\n",
              "      <td>20.0</td>\n",
              "      <td>73</td>\n",
              "      <td>5.0</td>\n",
              "    </tr>\n",
              "  </tbody>\n",
              "</table>\n",
              "<p>100 rows × 5 columns</p>\n",
              "</div>"
            ],
            "text/plain": [
              "     ID_pelanggan  ... Skor Belanja (1-100)\n",
              "68             69  ...                 59.0\n",
              "248           249  ...                 86.0\n",
              "211           212  ...                 12.0\n",
              "225           226  ...                  4.0\n",
              "91             92  ...                 41.0\n",
              "..            ...  ...                  ...\n",
              "5               6  ...                 76.0\n",
              "184           185  ...                 39.0\n",
              "186           187  ...                 24.0\n",
              "49             50  ...                 42.0\n",
              "201           202  ...                  5.0\n",
              "\n",
              "[100 rows x 5 columns]"
            ]
          },
          "metadata": {}
        }
      ]
    },
    {
      "cell_type": "code",
      "metadata": {
        "colab": {
          "base_uri": "https://localhost:8080/"
        },
        "id": "cQlHIku4G4IH",
        "outputId": "824d1fa1-bb1e-41f2-ed6a-074a61d3b011"
      },
      "source": [
        "df_100.info()"
      ],
      "execution_count": null,
      "outputs": [
        {
          "output_type": "stream",
          "name": "stdout",
          "text": [
            "<class 'pandas.core.frame.DataFrame'>\n",
            "Int64Index: 100 entries, 68 to 201\n",
            "Data columns (total 5 columns):\n",
            " #   Column                      Non-Null Count  Dtype  \n",
            "---  ------                      --------------  -----  \n",
            " 0   ID_pelanggan                100 non-null    int64  \n",
            " 1   Jenis Kelamin               100 non-null    object \n",
            " 2   Umur                        100 non-null    float64\n",
            " 3   Pendapatan pertahun (juta)  100 non-null    int64  \n",
            " 4   Skor Belanja (1-100)        100 non-null    float64\n",
            "dtypes: float64(2), int64(2), object(1)\n",
            "memory usage: 4.7+ KB\n"
          ]
        }
      ]
    },
    {
      "cell_type": "code",
      "metadata": {
        "id": "NupyWqlOG7D9"
      },
      "source": [
        "# Karena Umur terdeteksi sebagai float64, maka nampaknya tidak perlu konversi kolom umur dengan astype(int)"
      ],
      "execution_count": null,
      "outputs": []
    },
    {
      "cell_type": "code",
      "metadata": {
        "id": "lMKJV05iTstK"
      },
      "source": [
        "# xbar pop\n",
        "# mu => hyp\n",
        "# n = sample\n",
        "\n",
        "def getZVal(xbar, mu, sigma, n, isDisplay=False):\n",
        "  zVal = (xbar-mu)/(sigma/n**0.5)\n",
        "  if isDisplay: print(f\"nilai z hitung : {zVal}\")\n",
        "  return zVal\n",
        "\n",
        "def separation(text):\n",
        "  print(f\"\\n============= {text} =============\")\n"
      ],
      "execution_count": null,
      "outputs": []
    },
    {
      "cell_type": "code",
      "metadata": {
        "colab": {
          "base_uri": "https://localhost:8080/"
        },
        "id": "SVIJJHX8nXYq",
        "outputId": "d7357d86-08fe-4781-ecb4-f4f078912d1d"
      },
      "source": [
        "#code here for z-test\n",
        "#menggunakan perhitungan manual \n",
        "h = [\n",
        "     \"rata-rata usia = 35 tahun\", \n",
        "     \"rata-rata usia > 35 tahun\"\n",
        "    ]\n",
        "alpha = 0.05\n",
        "zTab = 1.64\n",
        "\n",
        "separation(\"Hipotesis\")\n",
        "for idx, el in enumerate (h): print(f\"- H{idx} : {el}\")\n",
        "\n",
        "separation(\"Nilai Alpha\")\n",
        "print(f\"alpha : {alpha}\")\n",
        "\n",
        "zVal = getZVal(\n",
        "    xbar=df_100[\"Umur\"].mean(), \n",
        "    mu=35, \n",
        "    sigma = df_100[\"Umur\"].std(), \n",
        "    n = 100, \n",
        ")\n",
        "separation(\"Z Hitung v Z Tabel\")\n",
        "print(f\"z-hitung : {zVal}\\nz-tabel  : {zTab}\")\n",
        "\n",
        "separation(\"Kesimpulan\")\n",
        "if (zVal <= zTab):\n",
        "  print(\"- karena z-hitung <= z-tabel, maka H0 diterima\")\n",
        "  print(f\"- {h[0]}\")\n",
        "else :\n",
        "  print(\"- karena z-hitung > z-tabel, maka H0 ditolak\")\n",
        "  print(f\"- {h[1]}\")"
      ],
      "execution_count": null,
      "outputs": [
        {
          "output_type": "stream",
          "name": "stdout",
          "text": [
            "\n",
            "============= Hipotesis =============\n",
            "- H0 : rata-rata usia = 35 tahun\n",
            "- H1 : rata-rata usia > 35 tahun\n",
            "\n",
            "============= Nilai Alpha =============\n",
            "alpha : 0.05\n",
            "\n",
            "============= Z Hitung v Z Tabel =============\n",
            "z-hitung : 2.4874107887154624\n",
            "z-tabel  : 1.64\n",
            "\n",
            "============= Kesimpulan =============\n",
            "- karena z-hitung > z-tabel, maka H0 ditolak\n",
            "- rata-rata usia > 35 tahun\n"
          ]
        }
      ]
    },
    {
      "cell_type": "code",
      "metadata": {
        "id": "DrlCfbiLZaEg",
        "colab": {
          "base_uri": "https://localhost:8080/"
        },
        "outputId": "302914af-af11-46f7-e938-e452c319d555"
      },
      "source": [
        "#code here for p-value\n",
        "\n",
        "tabVal = 0.9936\n",
        "pValTable = 1- tabVal\n",
        "\n",
        "separation(\"Mencari P-Value\")\n",
        "print(f\"Data Dari Tabel untuk z({zVal})   : {tabVal}\")\n",
        "print(f\"Nilai P-Value : {pValTable}\")\n",
        "\n",
        "separation(\"P-Value dan Alpha\")\n",
        "print(f\"P-Value   : {pValTable}\")\n",
        "print(f\"Alpha     : {alpha}\")\n",
        "\n",
        "separation(\"Kesimpulan\")\n",
        "if (pValTable < alpha):\n",
        "  print(f\"uji statistik pada daerah penolakan, maka '{h[1]}' diterima\")\n",
        "else: \n",
        "  print(f\"uji statistik di luar daerah penolakan, maka {h[0]} diterima)\")"
      ],
      "execution_count": null,
      "outputs": [
        {
          "output_type": "stream",
          "name": "stdout",
          "text": [
            "\n",
            "============= Mencari P-Value =============\n",
            "Data Dari Tabel untuk z(2.4874107887154624)   : 0.9936\n",
            "Nilai P-Value : 0.006399999999999961\n",
            "\n",
            "============= P-Value dan Alpha =============\n",
            "P-Value   : 0.006399999999999961\n",
            "Alpha     : 0.05\n",
            "\n",
            "============= Kesimpulan =============\n",
            "uji statistik pada daerah penolakan, maka 'rata-rata usia > 35 tahun' diterima\n"
          ]
        }
      ]
    },
    {
      "cell_type": "code",
      "metadata": {
        "colab": {
          "base_uri": "https://localhost:8080/"
        },
        "id": "jmMjWBww0Zzw",
        "outputId": "670f9d69-84f9-4a28-a7cd-4dcb62f3e91d"
      },
      "source": [
        "#code here for z-test\n",
        "# Menggunakan librari statsmodels\n",
        "\n",
        "from scipy import stats\n",
        "from statsmodels.stats import weightstats as stests\n",
        "\n",
        "ztest, pval = stests.ztest(df_100.Umur, value=35, alternative=\"larger\")\n",
        "print(ztest, pval)"
      ],
      "execution_count": null,
      "outputs": [
        {
          "output_type": "stream",
          "name": "stdout",
          "text": [
            "2.4874107887154624 0.006433836091848494\n"
          ]
        }
      ]
    },
    {
      "cell_type": "markdown",
      "metadata": {
        "id": "oj7BlvbfZ50q"
      },
      "source": [
        "Give your analysis:"
      ]
    },
    {
      "cell_type": "markdown",
      "metadata": {
        "id": "ZE9OBuKxZ8Ei"
      },
      "source": [
        "- Pada pernyataan di soal, ditentukan hipotesis sebagai berikut.\n",
        "  - H0 : rata-rata usia = 35 tahun\n",
        "  - H1 : rata-rata usia > 35 tahun\n",
        "- Dari hipotesis di atas, ditentukan metode uji yang digunakan adalah uji satu arah.\n",
        "- Telah ditentukan pula nilai alpha = 0.05\n",
        "- Telah dilakukan perhitungan baik menggunakan perhitungan manual atau librari statsmodels. Keduanya menghasilkan hasil yang serupa yakni nilai z = 2.49 dan p = 0.064.\n",
        "Karena nilai zhitung (2.49) > ztabel (1.64), maka hipotesis null ditolak. Hal ini diperkuat dengan perbandingan nilai pValue (0.064) yang lebih kecil dari nilai alpha yang telah ditentukan (0.05). Dengan demkian ada bukti yang kuat bahwa usia rata-rata pelanggan di atas 35 tahun.\n",
        " "
      ]
    },
    {
      "cell_type": "markdown",
      "metadata": {
        "id": "272__Q0-_H_E"
      },
      "source": [
        "\n",
        "\n",
        "---\n",
        "\n",
        "\n",
        "\n",
        "---\n",
        "\n",
        "\n",
        "\n",
        "---\n",
        "\n"
      ]
    },
    {
      "cell_type": "markdown",
      "metadata": {
        "id": "q4TB5nadDdp1"
      },
      "source": [
        "## Soal 5. EDA"
      ]
    },
    {
      "cell_type": "markdown",
      "metadata": {
        "id": "GQCd-O8ApvTE"
      },
      "source": [
        "Lakukan eksplorasi data analisis. Gunakan visualisasi distplot untuk melihat sebaran data dan histogram pada setiap kolom dataset awal sebelum dilakukan handling missing value maupun outlier"
      ]
    },
    {
      "cell_type": "code",
      "metadata": {
        "id": "hd05FkWjZlKg",
        "colab": {
          "base_uri": "https://localhost:8080/",
          "height": 433
        },
        "outputId": "09b1e6f5-22d5-4100-d14a-a3ad046d3928"
      },
      "source": [
        "#code here for univariate \n",
        "df = pd.read_csv(\"https://drive.google.com/uc?export=download&id=1jaxCbZ4fcCneeVCEN-yuxWE0RyX25tbQ\")\n",
        "boxplot = MultiplePlot(\n",
        "    df=df, \n",
        "    columns=columns, \n",
        "    ncols=3, \n",
        "    figsize=(15,6)\n",
        ")\n",
        "\n",
        "boxplot.plot(\"distplot\")\n",
        "boxplot.show()\n"
      ],
      "execution_count": null,
      "outputs": [
        {
          "output_type": "display_data",
          "data": {
            "image/png": "[encoded data removed]",
            "text/plain": [
              "<Figure size 1080x432 with 4 Axes>"
            ]
          },
          "metadata": {
            "needs_background": "light"
          }
        }
      ]
    },
    {
      "cell_type": "markdown",
      "metadata": {
        "id": "DGb_OjUXZ97i"
      },
      "source": [
        "Give your analysis:"
      ]
    },
    {
      "cell_type": "markdown",
      "metadata": {
        "id": "hJ-rZ1C6mZ_K"
      },
      "source": [
        "**Pendahuluan**\n",
        "- Telah disajikan data dalam bentuk plot histogram dan kurva distribusinya. \n",
        "- Dari sini bisa kita lihat bagaimana data itu terdistribusi, condong ke arah mana, dsb. \n",
        "\n",
        "**ID_pelanggan**\n",
        "- Pada grafik di atas, distribusi data simetris dengan memiliki banyak puncak.\n",
        "- Data ID pelanggan memiliki sifat keruncingan yang datar.\n",
        "- Nampak bahwa simpangan data terhadap rata-rata (simpangan baku) bernilai besar.\n",
        "\n",
        "**Umur**\n",
        "- Data terdistribusi dengan condong ke arah kiri, dengan kata lain, lebih banyak pelanggan dengan usia muda.\n",
        "- Secara umum simpangan data tidak besar, sehingga data cenderung berkumpul di sekitar mean , hal ini memberikan pengaruh terhadap keruncingan bentuk histogram menjadi lebih runcing.\n",
        "\n",
        "\n",
        "**Pendapatan Tahunan**\n",
        "- Data lebih condong ke arah kanan, dengan kata lain pelanggan lebih banyak pada kategori dengan pendapatan tahunan yang tinggi\n",
        "- Dibandingkan umur, nampaknya nilai simpangan baku nya lebih besar, hal ini dilihat dari grafik histogram bahwa grafik cenderung melebar. \n",
        "\n",
        "**Skor Belanja**\n",
        "- Pada grafik di atas, distribusi data (hampir) simetris dengan memiliki banyak puncak.\n",
        "- Data tersebar pada hampir secara merata pada rentang 0-100."
      ]
    },
    {
      "cell_type": "code",
      "metadata": {
        "colab": {
          "base_uri": "https://localhost:8080/",
          "height": 433
        },
        "id": "gBgugB1w3_R6",
        "outputId": "dbca5661-3377-438d-ed71-3272f13887ce"
      },
      "source": [
        "sortedDf = df.sort_values(\"Skor Belanja (1-100)\", ascending=False)\n",
        "\n",
        "plt.figure(figsize=(16,6))\n",
        "plt.subplot(211)\n",
        "plt.title(\"Top Highest Skor Belanja\")\n",
        "sns.barplot(sortedDf[\"Jenis Kelamin\"].head(10), sortedDf[\"Skor Belanja (1-100)\"].head(10))\n",
        "plt.subplot(212)\n",
        "plt.title(\"Top Lowest Skor Belanja\")\n",
        "sns.barplot(sortedDf[\"Jenis Kelamin\"].tail(10), sortedDf[\"Skor Belanja (1-100)\"].tail(10))\n",
        "plt.tight_layout(pad=1.5)\n",
        "plt.show()\n"
      ],
      "execution_count": null,
      "outputs": [
        {
          "output_type": "display_data",
          "data": {
            "image/png": "[encoded data removed]",
            "text/plain": [
              "<Figure size 1152x432 with 2 Axes>"
            ]
          },
          "metadata": {
            "needs_background": "light"
          }
        }
      ]
    },
    {
      "cell_type": "markdown",
      "metadata": {
        "id": "LuRzizmQaA7c"
      },
      "source": [
        "Give your analysis:"
      ]
    },
    {
      "cell_type": "markdown",
      "metadata": {
        "id": "o74RZcJdaDZA"
      },
      "source": [
        "- grafik di atas merupakan nilai rata2 pada 10 skor terbaik / terburuk yang dikelompokan berdasarkan kategori.\n",
        "- grafik diperoleh dari : \n",
        "  - pengurutan data berdasarkan skor belanja, \n",
        "  - ambil 10 data  terbaik / terburuk\n",
        "  - plot rata-rata dan standar deviasinya yang telah dikelompokkan berdasarkan jenis kelamin.\n",
        "\n",
        "**Top Highest Skor Belanja**\n",
        "- Pada 10 skor terbaik, rataan skor belanja perempuan lebih baik dibandingkan dengan laki-laki. \n",
        "- sebaran skor belanja perempuan lebih tinggi dibandingkan dengan laki-laki. Dengan kata lain, pada kelompok laki-laki nilainya tidak terlalu jauh berbeda dengan rata-ratanya. \n",
        "\n",
        "**Top Lowest Skor Belanja**\n",
        "- Hanya terdapat pelanggan dengan jenis kelamin laki-laki pada 10 skor terburuk. Rata-rata skornya kisaran 4, dengan simpangan baku yang tidak terlalu besar. \n",
        "\n",
        "**Umum**\n",
        "- Dapat dilihat pada grafik bahwa respons pada pelanggan wanita memiliki kecenderungan untuk memberikan penilaian yang lebih baik dibandingkan dengan pelanggan laki-laki. \n",
        "- Hal itu dapat dilihat dengan tingginya penilaian terbaik dan tidak adanya penilaian buruk (pada 10 skor terbaik dan terburuk) pada pelanggan jenis kelamin wanita.\n"
      ]
    },
    {
      "cell_type": "code",
      "metadata": {
        "id": "7J3b554fZqoy",
        "colab": {
          "base_uri": "https://localhost:8080/",
          "height": 452
        },
        "outputId": "018c1593-e583-4b63-fbcf-34875deb0106"
      },
      "source": [
        "#code here for multivariate\n",
        "fig, ax = plt.subplots(figsize=(7,5))\n",
        "\n",
        "sns.heatmap(df.corr(), annot=True)\n",
        "plt.show()"
      ],
      "execution_count": null,
      "outputs": [
        {
          "output_type": "display_data",
          "data": {
            "image/png": "[encoded data removed]",
            "text/plain": [
              "<Figure size 504x360 with 2 Axes>"
            ]
          },
          "metadata": {
            "needs_background": "light"
          }
        }
      ]
    },
    {
      "cell_type": "markdown",
      "metadata": {
        "id": "8S-A9RV5aEmB"
      },
      "source": [
        "Give your analysis:"
      ]
    },
    {
      "cell_type": "markdown",
      "metadata": {
        "id": "vrT3v9ZYaGXb"
      },
      "source": [
        "**Pendahuluan**\n",
        "- Heatmap di atas merupakan visualisasi hubungan / korelasi antara dua variabel. \n",
        "\n",
        "- Rentang nilai korelasi bereada pada -1 <= x <= 1. Jika |x| mendekati nilai 1 berarti ada hubungan kuat antara dua variabel tersebut, tapi jika mendekati nilai 0, maka tidak ada hubungan sama sekali. Sedangkan nilai positif atau negatif menunjukan arah korelasinya. \n",
        "\n",
        "- Pada pembahasan ini akan dibahas korelasi antara dua variabel yang berbeda (ID Pelanggan, Umur, pendapatan pertahun dan skor belanja).\n",
        "\n",
        "**ID Pelanggan vs Skor Belanja**\n",
        "- Mulai dari hubungan ID Pelanggan dan skor belanja. Kita bisa lihat korelasi kedua variabel ini sangat kecil (-0.03). Sehingga nyaris tidak ada pengaruh antara ID Pelanggan dan skor belanja. \n",
        "\n",
        "**ID Pelanggan vs Pendapatan Pertahun**\n",
        "- Dari heatmeap di atas bisa kita lihat bahwa ada hubungan yang sangat tinggi antara ID pelanggan dan Pendapatan pertahun (nilai korelasi 0.9). Semakin besar ID Pelanggan, Pendapatan tahunan semakin besar pula.\n",
        "\n",
        "**ID Pelanggan vs Pendapatan Pertahun**\n",
        "- Nilai korelasi antara dua variabel ini adalah -0.016, dengan demikian nyaris tidak ada hubungan antara keduanya.\n",
        "\n",
        "**Umur vs Skor Belanja**\n",
        "- Meski rendah, ada hubungan antara umur pelanggan dengan skor belanja. Hal ini ditunjukan dengan nilai korelasi -0.33. Karena korelasi bernilai negatif, bisa ditafsirkan bahwa semakin tua usia pelanggan, maka semakin rendah penilainnya.\n",
        "\n",
        "**Umur vs Pendapatan Pertahun**\n",
        "- Hubungan antara kedua variabel ini sangat rendah, nilai korelasinya hanya 0.011. \n",
        "\n",
        "**Pendapatan Pertahun vs skor belanja**\n",
        "- Hubungan antara kedua variabel ini sangat rendah, nilai korelasinya hanya -0.035. \n"
      ]
    },
    {
      "cell_type": "markdown",
      "metadata": {
        "id": "rvomcnVzWD90"
      },
      "source": [
        "**Expected output**\n",
        "\n",
        "Univariate plot\n",
        "\n",
        "![](https://drive.google.com/uc?id=12BSOah7WFzuOEJsKfsaNDw799zzqbDIs)\n",
        "\n",
        "Bivariate plot\n",
        "\n",
        "![](https://drive.google.com/uc?id=1JI_NM4Nr-ZN1aszv0m-iL46Qm0xNLFw3)\n",
        "\n",
        "Multivariate plot\n",
        "\n",
        "![](https://drive.google.com/uc?id=1TTXm3BjoqqwSGMGE1en9ZIJT53Wm5SFf)"
      ]
    },
    {
      "cell_type": "markdown",
      "metadata": {
        "id": "z2nJhKqNpryR"
      },
      "source": [
        "\n",
        "\n",
        "---\n",
        "\n",
        "---\n",
        "\n",
        "\n",
        "\n",
        "---\n",
        "\n",
        "\n",
        "\n"
      ]
    },
    {
      "cell_type": "markdown",
      "metadata": {
        "id": "AF0090RVqbyh"
      },
      "source": [
        "# Soal 6. Data scaling\n",
        "lakukan scaling data dengan menggunakan standarisasi untuk kolom Umur dan skor belanja saja tetapi menggunakan variabel dataframe setelah handling missing value dan outlier"
      ]
    },
    {
      "cell_type": "code",
      "metadata": {
        "id": "NcQ-UGu1aKmg",
        "colab": {
          "base_uri": "https://localhost:8080/",
          "height": 203
        },
        "outputId": "34dc101c-040d-4675-e316-cfa6767f2551"
      },
      "source": [
        "#code here\n",
        "from sklearn.preprocessing import StandardScaler\n",
        "\n",
        "scaler = StandardScaler()\n",
        "scaled_columns = [\"Umur\", \"Skor Belanja (1-100)\"]\n",
        "\n",
        "df2_scaled = df2.copy() \n",
        "for col in scaled_columns:\n",
        "  scaler.fit(df2_scaled[[col]])\n",
        "  df2_scaled[col] = scaler.transform(df2[[col]])\n",
        "\n",
        "df2_scaled.head()"
      ],
      "execution_count": null,
      "outputs": [
        {
          "output_type": "execute_result",
          "data": {
            "text/html": [
              "<div>\n",
              "<style scoped>\n",
              "    .dataframe tbody tr th:only-of-type {\n",
              "        vertical-align: middle;\n",
              "    }\n",
              "\n",
              "    .dataframe tbody tr th {\n",
              "        vertical-align: top;\n",
              "    }\n",
              "\n",
              "    .dataframe thead th {\n",
              "        text-align: right;\n",
              "    }\n",
              "</style>\n",
              "<table border=\"1\" class=\"dataframe\">\n",
              "  <thead>\n",
              "    <tr style=\"text-align: right;\">\n",
              "      <th></th>\n",
              "      <th>ID_pelanggan</th>\n",
              "      <th>Jenis Kelamin</th>\n",
              "      <th>Umur</th>\n",
              "      <th>Pendapatan pertahun (juta)</th>\n",
              "      <th>Skor Belanja (1-100)</th>\n",
              "    </tr>\n",
              "  </thead>\n",
              "  <tbody>\n",
              "    <tr>\n",
              "      <th>0</th>\n",
              "      <td>1</td>\n",
              "      <td>Laki-laki</td>\n",
              "      <td>-1.455408</td>\n",
              "      <td>15</td>\n",
              "      <td>-0.396862</td>\n",
              "    </tr>\n",
              "    <tr>\n",
              "      <th>1</th>\n",
              "      <td>2</td>\n",
              "      <td>Laki-laki</td>\n",
              "      <td>-1.305038</td>\n",
              "      <td>15</td>\n",
              "      <td>1.121236</td>\n",
              "    </tr>\n",
              "    <tr>\n",
              "      <th>2</th>\n",
              "      <td>3</td>\n",
              "      <td>Perempuan</td>\n",
              "      <td>-1.380223</td>\n",
              "      <td>16</td>\n",
              "      <td>-1.589654</td>\n",
              "    </tr>\n",
              "    <tr>\n",
              "      <th>3</th>\n",
              "      <td>4</td>\n",
              "      <td>Perempuan</td>\n",
              "      <td>-1.154669</td>\n",
              "      <td>16</td>\n",
              "      <td>0.976655</td>\n",
              "    </tr>\n",
              "    <tr>\n",
              "      <th>4</th>\n",
              "      <td>5</td>\n",
              "      <td>Perempuan</td>\n",
              "      <td>-0.553190</td>\n",
              "      <td>17</td>\n",
              "      <td>-0.360717</td>\n",
              "    </tr>\n",
              "  </tbody>\n",
              "</table>\n",
              "</div>"
            ],
            "text/plain": [
              "   ID_pelanggan Jenis Kelamin  ...  Pendapatan pertahun (juta)  Skor Belanja (1-100)\n",
              "0             1     Laki-laki  ...                          15             -0.396862\n",
              "1             2     Laki-laki  ...                          15              1.121236\n",
              "2             3     Perempuan  ...                          16             -1.589654\n",
              "3             4     Perempuan  ...                          16              0.976655\n",
              "4             5     Perempuan  ...                          17             -0.360717\n",
              "\n",
              "[5 rows x 5 columns]"
            ]
          },
          "metadata": {},
          "execution_count": 25
        }
      ]
    },
    {
      "cell_type": "markdown",
      "metadata": {
        "id": "6_4IxEFEqwNp"
      },
      "source": [
        "\n",
        "\n",
        "---\n",
        "\n",
        "\n",
        "\n",
        "---\n",
        "\n",
        "\n",
        "\n",
        "---\n",
        "\n"
      ]
    },
    {
      "cell_type": "markdown",
      "metadata": {
        "id": "gPDw48Mmqx7n"
      },
      "source": [
        "# Soal 7. Clustering menggunakan k-menas\n",
        "\n",
        "*   Lakukan clustering menggunakan kmeans clustering dengan k =2, dan visualisasikan\n",
        "*   Gunakan Elbow method untuk menemukan jumlah k kluster yang tepat\n",
        "*   Gunakan k=3 (rekomendasi methode Elbow) lalu visualisasikan\n",
        "*   Hitung silhoutte Coefficient dari ke dua hasil prediksi klustering tersebut"
      ]
    },
    {
      "cell_type": "code",
      "metadata": {
        "id": "mSgEf2oqCPaN"
      },
      "source": [
        "#code here \n",
        "from sklearn.cluster import KMeans\n",
        "from sklearn.metrics import silhouette_score\n",
        "\n",
        "class KMeansCluster:\n",
        "  def __init__(self, df, columns, n_clusters):\n",
        "    self.df = df.copy()\n",
        "    self.columns = columns\n",
        "    self.n_clusters = n_clusters\n",
        "    self.__generateCluster()\n",
        "\n",
        "  def separation(self, text):\n",
        "    print(f\"\\n======== {text} ========\")\n",
        "  \n",
        "  @staticmethod\n",
        "  def elbowPlot(df, columns, clusterRange):\n",
        "    sse = []\n",
        "    for k in clusterRange:\n",
        "        km = KMeans(n_clusters=k)\n",
        "        km.fit(df[columns])\n",
        "        sse.append(km.inertia_)\n",
        "    fig, ax = plt.subplots(figsize=(10,6))        \n",
        "    ax.set_xlabel('n_cluster')\n",
        "    ax.set_ylabel('wcss')\n",
        "    ax.plot(clusterRange,sse)\n",
        "    plt.title(\"Elbow Method\")\n",
        "    plt.show()\n",
        "\n",
        "  def __generateCluster(self):\n",
        "    print(f\"generate {self.n_clusters} clusters ...\" )\n",
        "    self.km = KMeans(n_clusters=self.n_clusters)\n",
        "    self.df[\"cluster\"] = self.km.fit_predict(self.df[self.columns])\n",
        "    separation(\"5 Data Hasil Klastering\")\n",
        "    display(self.df.head())\n",
        "  \n",
        "  def showSilhouetteScore(self):\n",
        "    print(f\"Silhouette Score(n={self.n_clusters}): {silhouette_score(self.df[self.columns], self.df.cluster)}\")\n",
        "\n",
        "  def plot(self, colors):\n",
        "    separation(\"Scatter Plot\")\n",
        "    self.fig, self.ax = plt.subplots(figsize=(11,7))\n",
        "    for i in range(self.n_clusters):\n",
        "      temp = self.df[self.df.cluster==i]\n",
        "      plt.ylabel(\"Skor Belanja (1-100)\")\n",
        "      plt.xlabel(\"Umur\")\n",
        "      plt.scatter(temp[self.columns[0]], temp[self.columns[1]], color=colors[i], edgecolors=\"green\", s=100)\n",
        "      plt.scatter(self.km.cluster_centers_[:,0],self.km.cluster_centers_[:,1],color='k',s=300)\n",
        "\n",
        "    plt.show()\n"
      ],
      "execution_count": null,
      "outputs": []
    },
    {
      "cell_type": "code",
      "metadata": {
        "colab": {
          "base_uri": "https://localhost:8080/",
          "height": 716
        },
        "id": "aHo5sd3nFY_F",
        "outputId": "7b8cbace-0905-4e59-94bf-92e949c75ead"
      },
      "source": [
        "df2Cluster = KMeansCluster(\n",
        "    df=df2_scaled, \n",
        "    columns=scaled_columns, \n",
        "    n_clusters=2\n",
        ")\n",
        "df2Cluster.plot([\"blue\", \"red\"])"
      ],
      "execution_count": null,
      "outputs": [
        {
          "output_type": "stream",
          "name": "stdout",
          "text": [
            "generate 2 clusters ...\n",
            "\n",
            "============= 5 Data Hasil Klastering =============\n"
          ]
        },
        {
          "output_type": "display_data",
          "data": {
            "text/html": [
              "<div>\n",
              "<style scoped>\n",
              "    .dataframe tbody tr th:only-of-type {\n",
              "        vertical-align: middle;\n",
              "    }\n",
              "\n",
              "    .dataframe tbody tr th {\n",
              "        vertical-align: top;\n",
              "    }\n",
              "\n",
              "    .dataframe thead th {\n",
              "        text-align: right;\n",
              "    }\n",
              "</style>\n",
              "<table border=\"1\" class=\"dataframe\">\n",
              "  <thead>\n",
              "    <tr style=\"text-align: right;\">\n",
              "      <th></th>\n",
              "      <th>ID_pelanggan</th>\n",
              "      <th>Jenis Kelamin</th>\n",
              "      <th>Umur</th>\n",
              "      <th>Pendapatan pertahun (juta)</th>\n",
              "      <th>Skor Belanja (1-100)</th>\n",
              "      <th>cluster</th>\n",
              "    </tr>\n",
              "  </thead>\n",
              "  <tbody>\n",
              "    <tr>\n",
              "      <th>0</th>\n",
              "      <td>1</td>\n",
              "      <td>Laki-laki</td>\n",
              "      <td>-1.455408</td>\n",
              "      <td>15</td>\n",
              "      <td>-0.396862</td>\n",
              "      <td>1</td>\n",
              "    </tr>\n",
              "    <tr>\n",
              "      <th>1</th>\n",
              "      <td>2</td>\n",
              "      <td>Laki-laki</td>\n",
              "      <td>-1.305038</td>\n",
              "      <td>15</td>\n",
              "      <td>1.121236</td>\n",
              "      <td>1</td>\n",
              "    </tr>\n",
              "    <tr>\n",
              "      <th>2</th>\n",
              "      <td>3</td>\n",
              "      <td>Perempuan</td>\n",
              "      <td>-1.380223</td>\n",
              "      <td>16</td>\n",
              "      <td>-1.589654</td>\n",
              "      <td>0</td>\n",
              "    </tr>\n",
              "    <tr>\n",
              "      <th>3</th>\n",
              "      <td>4</td>\n",
              "      <td>Perempuan</td>\n",
              "      <td>-1.154669</td>\n",
              "      <td>16</td>\n",
              "      <td>0.976655</td>\n",
              "      <td>1</td>\n",
              "    </tr>\n",
              "    <tr>\n",
              "      <th>4</th>\n",
              "      <td>5</td>\n",
              "      <td>Perempuan</td>\n",
              "      <td>-0.553190</td>\n",
              "      <td>17</td>\n",
              "      <td>-0.360717</td>\n",
              "      <td>1</td>\n",
              "    </tr>\n",
              "  </tbody>\n",
              "</table>\n",
              "</div>"
            ],
            "text/plain": [
              "   ID_pelanggan Jenis Kelamin  ...  Skor Belanja (1-100)  cluster\n",
              "0             1     Laki-laki  ...             -0.396862        1\n",
              "1             2     Laki-laki  ...              1.121236        1\n",
              "2             3     Perempuan  ...             -1.589654        0\n",
              "3             4     Perempuan  ...              0.976655        1\n",
              "4             5     Perempuan  ...             -0.360717        1\n",
              "\n",
              "[5 rows x 6 columns]"
            ]
          },
          "metadata": {}
        },
        {
          "output_type": "stream",
          "name": "stdout",
          "text": [
            "\n",
            "============= Scatter Plot =============\n"
          ]
        },
        {
          "output_type": "display_data",
          "data": {
            "image/png": "[encoded data removed]",
            "text/plain": [
              "<Figure size 792x504 with 1 Axes>"
            ]
          },
          "metadata": {
            "needs_background": "light"
          }
        }
      ]
    },
    {
      "cell_type": "code",
      "metadata": {
        "colab": {
          "base_uri": "https://localhost:8080/",
          "height": 405
        },
        "id": "bM5zwGcUK2AC",
        "outputId": "e1f527a6-6dab-4c52-b2bf-3a3af4e75f2e"
      },
      "source": [
        "KMeansCluster.elbowPlot(df2_scaled, scaled_columns, range(1,10))"
      ],
      "execution_count": null,
      "outputs": [
        {
          "output_type": "display_data",
          "data": {
            "image/png": "[encoded data removed]",
            "text/plain": [
              "<Figure size 720x432 with 1 Axes>"
            ]
          },
          "metadata": {
            "needs_background": "light"
          }
        }
      ]
    },
    {
      "cell_type": "code",
      "metadata": {
        "colab": {
          "base_uri": "https://localhost:8080/",
          "height": 716
        },
        "id": "HXGJxE_tFdye",
        "outputId": "2ddade44-ec7c-481b-c755-936a03b96fca"
      },
      "source": [
        "df3Cluster = KMeansCluster(\n",
        "    df=df2_scaled, \n",
        "    columns=scaled_columns, \n",
        "    n_clusters=3\n",
        ")\n",
        "df3Cluster.plot([\"red\", \"green\", \"blue\"])"
      ],
      "execution_count": null,
      "outputs": [
        {
          "output_type": "stream",
          "name": "stdout",
          "text": [
            "generate 3 clusters ...\n",
            "\n",
            "============= 5 Data Hasil Klastering =============\n"
          ]
        },
        {
          "output_type": "display_data",
          "data": {
            "text/html": [
              "<div>\n",
              "<style scoped>\n",
              "    .dataframe tbody tr th:only-of-type {\n",
              "        vertical-align: middle;\n",
              "    }\n",
              "\n",
              "    .dataframe tbody tr th {\n",
              "        vertical-align: top;\n",
              "    }\n",
              "\n",
              "    .dataframe thead th {\n",
              "        text-align: right;\n",
              "    }\n",
              "</style>\n",
              "<table border=\"1\" class=\"dataframe\">\n",
              "  <thead>\n",
              "    <tr style=\"text-align: right;\">\n",
              "      <th></th>\n",
              "      <th>ID_pelanggan</th>\n",
              "      <th>Jenis Kelamin</th>\n",
              "      <th>Umur</th>\n",
              "      <th>Pendapatan pertahun (juta)</th>\n",
              "      <th>Skor Belanja (1-100)</th>\n",
              "      <th>cluster</th>\n",
              "    </tr>\n",
              "  </thead>\n",
              "  <tbody>\n",
              "    <tr>\n",
              "      <th>0</th>\n",
              "      <td>1</td>\n",
              "      <td>Laki-laki</td>\n",
              "      <td>-1.455408</td>\n",
              "      <td>15</td>\n",
              "      <td>-0.396862</td>\n",
              "      <td>2</td>\n",
              "    </tr>\n",
              "    <tr>\n",
              "      <th>1</th>\n",
              "      <td>2</td>\n",
              "      <td>Laki-laki</td>\n",
              "      <td>-1.305038</td>\n",
              "      <td>15</td>\n",
              "      <td>1.121236</td>\n",
              "      <td>0</td>\n",
              "    </tr>\n",
              "    <tr>\n",
              "      <th>2</th>\n",
              "      <td>3</td>\n",
              "      <td>Perempuan</td>\n",
              "      <td>-1.380223</td>\n",
              "      <td>16</td>\n",
              "      <td>-1.589654</td>\n",
              "      <td>2</td>\n",
              "    </tr>\n",
              "    <tr>\n",
              "      <th>3</th>\n",
              "      <td>4</td>\n",
              "      <td>Perempuan</td>\n",
              "      <td>-1.154669</td>\n",
              "      <td>16</td>\n",
              "      <td>0.976655</td>\n",
              "      <td>0</td>\n",
              "    </tr>\n",
              "    <tr>\n",
              "      <th>4</th>\n",
              "      <td>5</td>\n",
              "      <td>Perempuan</td>\n",
              "      <td>-0.553190</td>\n",
              "      <td>17</td>\n",
              "      <td>-0.360717</td>\n",
              "      <td>2</td>\n",
              "    </tr>\n",
              "  </tbody>\n",
              "</table>\n",
              "</div>"
            ],
            "text/plain": [
              "   ID_pelanggan Jenis Kelamin  ...  Skor Belanja (1-100)  cluster\n",
              "0             1     Laki-laki  ...             -0.396862        2\n",
              "1             2     Laki-laki  ...              1.121236        0\n",
              "2             3     Perempuan  ...             -1.589654        2\n",
              "3             4     Perempuan  ...              0.976655        0\n",
              "4             5     Perempuan  ...             -0.360717        2\n",
              "\n",
              "[5 rows x 6 columns]"
            ]
          },
          "metadata": {}
        },
        {
          "output_type": "stream",
          "name": "stdout",
          "text": [
            "\n",
            "============= Scatter Plot =============\n"
          ]
        },
        {
          "output_type": "display_data",
          "data": {
            "image/png": "[encoded data removed]",
            "text/plain": [
              "<Figure size 792x504 with 1 Axes>"
            ]
          },
          "metadata": {
            "needs_background": "light"
          }
        }
      ]
    },
    {
      "cell_type": "markdown",
      "metadata": {
        "id": "ffhO8oUcXYy4"
      },
      "source": [
        "**Expected output**\n",
        "\n",
        "cluster 2\n",
        "\n",
        "![](https://drive.google.com/uc?id=1L7nIskGXbeXGhKOzhMWCykJ4jY5538mn)\n",
        "\n",
        "elbow method\n",
        "\n",
        "![](https://drive.google.com/uc?id=1a3OL9FhiQ2-DyJQ8sg8PNzfS9QsszyvU)\n",
        "\n",
        "cluster 3\n",
        "\n",
        "![](https://drive.google.com/uc?id=1UR6vK36oLJinLPtechjJJBtxifmdFOSn)\n"
      ]
    },
    {
      "cell_type": "code",
      "metadata": {
        "id": "tDBLnR3fI2RL",
        "colab": {
          "base_uri": "https://localhost:8080/"
        },
        "outputId": "25ddae60-552c-4dfc-cb76-a80615fe2e6d"
      },
      "source": [
        "#silhoutte score\n",
        "df2Cluster.showSilhouetteScore()\n",
        "df3Cluster.showSilhouetteScore()"
      ],
      "execution_count": null,
      "outputs": [
        {
          "output_type": "stream",
          "name": "stdout",
          "text": [
            "Silhouette Score(n=2): 0.4854766884293722\n",
            "Silhouette Score(n=3): 0.46475332972661465\n"
          ]
        }
      ]
    },
    {
      "cell_type": "markdown",
      "metadata": {
        "id": "oGcs5qxga1dX"
      },
      "source": [
        "\n",
        "\n",
        "---\n",
        "\n",
        "\n",
        "\n",
        "---\n",
        "\n",
        "\n",
        "\n",
        "---\n",
        "\n"
      ]
    },
    {
      "cell_type": "markdown",
      "metadata": {
        "id": "b8JnapLFa3Da"
      },
      "source": [
        "# Soal 8. Analyze clustering result"
      ]
    },
    {
      "cell_type": "markdown",
      "metadata": {
        "id": "HmBZU5_qa-JE"
      },
      "source": [
        "Dari hasil klustering diatas, buatlah sebuah analisa segmentasi pelanggan untuk targetted market supermarket"
      ]
    },
    {
      "cell_type": "markdown",
      "metadata": {
        "id": "MLEmUen3bGLS"
      },
      "source": [
        "- Telah dilakukan pengujian klastering dengan dua metode, pertama dengan metode elbow, kemudian dengan menghitung skor silhouette.\n",
        "- Dengan menggunakan metode elbow bisa membantu kita untuk menentukan jumlah klaster yang paling optimum dengan mencari titik yang membentuk \"siku\" pada \"lengan\" grafik. Pada grafik di atas, dapat dilihat bahwa jumlah klaster yang optimum (bisa mengklasifikasikan dengan baik) adalah dua atau tiga klaster. Hal ini karena posisi elbow secara kasat mata hampir sama. \n",
        "- Dengan menggunkanan nilai skor silhoutte, klaster 2 lebih baik daripada skor silhouette untuk klaster 3.  \n",
        "- Selain itu, bisa dilihat pada scatter plot bahwa pada klasterisasi dengan jumlah 2 klaster, kita bisa membedakan dengan jelas. Sedangkan dengan banyak 3 klaster, ada beberapa titik yang nampaknya cukup berdekatan. \n",
        "\n",
        "**Analisa Dengan 2 Klaster**\n",
        "- Pada klaster ini terbagi atas 2 kelompok yakni\n",
        "  - Semua usia dengan skor rendah - sedang (A)\n",
        "  - Usia muda dengan skor sedang - tinggi (B)\n",
        "- Rekomendasi pada pengklasteran ini, pemilik toko mungkin bisa fokus menggarap konsumen dengan usia muda, karena dari mereka toko mendapatkan skor belanja yang sangat baik. \n",
        "\n",
        "\n",
        "**Analisa Dengan 3 Klaster**\n",
        "- Pada klaster ini terbagi atas 3 kelompok yakni\n",
        "  - Usia sedang-tua dengan skor rendah - sedang (A)\n",
        "  - Usia muda-sedang dengan skor rendah - sedang (B)\n",
        "  - Usia muda-sedang dengan skor sedang - tinggi (C)\n",
        "- Meski secara metode siluet menyarankan membagi 2 klaster (disamping lebih bisa mengklasifikasikan sebuah objek), namun untuk kasus ini sepertinya lebih baik membagi menjadi 3 kelompok. sehingga kita bisa memberikan perlakuan yang berbeda kepada ketiga kelompok tersebut. \n",
        "- Kelompok (C) merupakan aset yang berharga bagi toko, sehingga toko perlu memberikan semacam reward sehingga mereka bisa menjadi pelanggan tetap.   \n",
        "- Karena tidak ditemukan penilaian dengan skor tinggi pada kelompol usia tua (A), pemilik toko perlu mengevaluasi pelayanan kepada kelompok ini.  \n",
        "- Pelayanan Kelompok (B) perlu dievaluasi kembali selayaknya kelompok A. Namun perlakuan antara kelompok (A) dan (B) mungkin bisa berbeda, mengingat mereka berasal dari kelompok usia yang berbeda. \n",
        "\n"
      ]
    }
  ]
}